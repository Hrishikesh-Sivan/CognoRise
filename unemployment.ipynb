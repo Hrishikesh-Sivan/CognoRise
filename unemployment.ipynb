{
  "nbformat": 4,
  "nbformat_minor": 0,
  "metadata": {
    "colab": {
      "provenance": []
    },
    "kernelspec": {
      "name": "python3",
      "display_name": "Python 3"
    },
    "language_info": {
      "name": "python"
    }
  },
  "cells": [
    {
      "cell_type": "code",
      "execution_count": null,
      "metadata": {
        "id": "K_BQskm6jKjZ"
      },
      "outputs": [],
      "source": [
        "import pandas as pd\n",
        "import numpy as np\n",
        "import matplotlib.pyplot as plt"
      ]
    },
    {
      "cell_type": "code",
      "source": [
        "df=pd.read_csv(\"/content/Unemployment in India.csv\")\n",
        "df"
      ],
      "metadata": {
        "colab": {
          "base_uri": "https://localhost:8080/",
          "height": 423
        },
        "id": "eqI7B33fkwMf",
        "outputId": "7e770594-4be2-441e-b819-afdb2ce2db83"
      },
      "execution_count": null,
      "outputs": [
        {
          "output_type": "execute_result",
          "data": {
            "text/plain": [
              "             Region         Date  Frequency   Estimated Unemployment Rate (%)  \\\n",
              "0    Andhra Pradesh   31-05-2019    Monthly                              3.65   \n",
              "1    Andhra Pradesh   30-06-2019    Monthly                              3.05   \n",
              "2    Andhra Pradesh   31-07-2019    Monthly                              3.75   \n",
              "3    Andhra Pradesh   31-08-2019    Monthly                              3.32   \n",
              "4    Andhra Pradesh   30-09-2019    Monthly                              5.17   \n",
              "..              ...          ...        ...                               ...   \n",
              "763             NaN          NaN        NaN                               NaN   \n",
              "764             NaN          NaN        NaN                               NaN   \n",
              "765             NaN          NaN        NaN                               NaN   \n",
              "766             NaN          NaN        NaN                               NaN   \n",
              "767             NaN          NaN        NaN                               NaN   \n",
              "\n",
              "      Estimated Employed   Estimated Labour Participation Rate (%)   Area  \n",
              "0             11999139.0                                     43.24  Rural  \n",
              "1             11755881.0                                     42.05  Rural  \n",
              "2             12086707.0                                     43.50  Rural  \n",
              "3             12285693.0                                     43.97  Rural  \n",
              "4             12256762.0                                     44.68  Rural  \n",
              "..                   ...                                       ...    ...  \n",
              "763                  NaN                                       NaN    NaN  \n",
              "764                  NaN                                       NaN    NaN  \n",
              "765                  NaN                                       NaN    NaN  \n",
              "766                  NaN                                       NaN    NaN  \n",
              "767                  NaN                                       NaN    NaN  \n",
              "\n",
              "[768 rows x 7 columns]"
            ],
            "text/html": [
              "\n",
              "  <div id=\"df-443652ed-a24d-492b-86a2-b5497f8c75b7\" class=\"colab-df-container\">\n",
              "    <div>\n",
              "<style scoped>\n",
              "    .dataframe tbody tr th:only-of-type {\n",
              "        vertical-align: middle;\n",
              "    }\n",
              "\n",
              "    .dataframe tbody tr th {\n",
              "        vertical-align: top;\n",
              "    }\n",
              "\n",
              "    .dataframe thead th {\n",
              "        text-align: right;\n",
              "    }\n",
              "</style>\n",
              "<table border=\"1\" class=\"dataframe\">\n",
              "  <thead>\n",
              "    <tr style=\"text-align: right;\">\n",
              "      <th></th>\n",
              "      <th>Region</th>\n",
              "      <th>Date</th>\n",
              "      <th>Frequency</th>\n",
              "      <th>Estimated Unemployment Rate (%)</th>\n",
              "      <th>Estimated Employed</th>\n",
              "      <th>Estimated Labour Participation Rate (%)</th>\n",
              "      <th>Area</th>\n",
              "    </tr>\n",
              "  </thead>\n",
              "  <tbody>\n",
              "    <tr>\n",
              "      <th>0</th>\n",
              "      <td>Andhra Pradesh</td>\n",
              "      <td>31-05-2019</td>\n",
              "      <td>Monthly</td>\n",
              "      <td>3.65</td>\n",
              "      <td>11999139.0</td>\n",
              "      <td>43.24</td>\n",
              "      <td>Rural</td>\n",
              "    </tr>\n",
              "    <tr>\n",
              "      <th>1</th>\n",
              "      <td>Andhra Pradesh</td>\n",
              "      <td>30-06-2019</td>\n",
              "      <td>Monthly</td>\n",
              "      <td>3.05</td>\n",
              "      <td>11755881.0</td>\n",
              "      <td>42.05</td>\n",
              "      <td>Rural</td>\n",
              "    </tr>\n",
              "    <tr>\n",
              "      <th>2</th>\n",
              "      <td>Andhra Pradesh</td>\n",
              "      <td>31-07-2019</td>\n",
              "      <td>Monthly</td>\n",
              "      <td>3.75</td>\n",
              "      <td>12086707.0</td>\n",
              "      <td>43.50</td>\n",
              "      <td>Rural</td>\n",
              "    </tr>\n",
              "    <tr>\n",
              "      <th>3</th>\n",
              "      <td>Andhra Pradesh</td>\n",
              "      <td>31-08-2019</td>\n",
              "      <td>Monthly</td>\n",
              "      <td>3.32</td>\n",
              "      <td>12285693.0</td>\n",
              "      <td>43.97</td>\n",
              "      <td>Rural</td>\n",
              "    </tr>\n",
              "    <tr>\n",
              "      <th>4</th>\n",
              "      <td>Andhra Pradesh</td>\n",
              "      <td>30-09-2019</td>\n",
              "      <td>Monthly</td>\n",
              "      <td>5.17</td>\n",
              "      <td>12256762.0</td>\n",
              "      <td>44.68</td>\n",
              "      <td>Rural</td>\n",
              "    </tr>\n",
              "    <tr>\n",
              "      <th>...</th>\n",
              "      <td>...</td>\n",
              "      <td>...</td>\n",
              "      <td>...</td>\n",
              "      <td>...</td>\n",
              "      <td>...</td>\n",
              "      <td>...</td>\n",
              "      <td>...</td>\n",
              "    </tr>\n",
              "    <tr>\n",
              "      <th>763</th>\n",
              "      <td>NaN</td>\n",
              "      <td>NaN</td>\n",
              "      <td>NaN</td>\n",
              "      <td>NaN</td>\n",
              "      <td>NaN</td>\n",
              "      <td>NaN</td>\n",
              "      <td>NaN</td>\n",
              "    </tr>\n",
              "    <tr>\n",
              "      <th>764</th>\n",
              "      <td>NaN</td>\n",
              "      <td>NaN</td>\n",
              "      <td>NaN</td>\n",
              "      <td>NaN</td>\n",
              "      <td>NaN</td>\n",
              "      <td>NaN</td>\n",
              "      <td>NaN</td>\n",
              "    </tr>\n",
              "    <tr>\n",
              "      <th>765</th>\n",
              "      <td>NaN</td>\n",
              "      <td>NaN</td>\n",
              "      <td>NaN</td>\n",
              "      <td>NaN</td>\n",
              "      <td>NaN</td>\n",
              "      <td>NaN</td>\n",
              "      <td>NaN</td>\n",
              "    </tr>\n",
              "    <tr>\n",
              "      <th>766</th>\n",
              "      <td>NaN</td>\n",
              "      <td>NaN</td>\n",
              "      <td>NaN</td>\n",
              "      <td>NaN</td>\n",
              "      <td>NaN</td>\n",
              "      <td>NaN</td>\n",
              "      <td>NaN</td>\n",
              "    </tr>\n",
              "    <tr>\n",
              "      <th>767</th>\n",
              "      <td>NaN</td>\n",
              "      <td>NaN</td>\n",
              "      <td>NaN</td>\n",
              "      <td>NaN</td>\n",
              "      <td>NaN</td>\n",
              "      <td>NaN</td>\n",
              "      <td>NaN</td>\n",
              "    </tr>\n",
              "  </tbody>\n",
              "</table>\n",
              "<p>768 rows × 7 columns</p>\n",
              "</div>\n",
              "    <div class=\"colab-df-buttons\">\n",
              "\n",
              "  <div class=\"colab-df-container\">\n",
              "    <button class=\"colab-df-convert\" onclick=\"convertToInteractive('df-443652ed-a24d-492b-86a2-b5497f8c75b7')\"\n",
              "            title=\"Convert this dataframe to an interactive table.\"\n",
              "            style=\"display:none;\">\n",
              "\n",
              "  <svg xmlns=\"http://www.w3.org/2000/svg\" height=\"24px\" viewBox=\"0 -960 960 960\">\n",
              "    <path d=\"M120-120v-720h720v720H120Zm60-500h600v-160H180v160Zm220 220h160v-160H400v160Zm0 220h160v-160H400v160ZM180-400h160v-160H180v160Zm440 0h160v-160H620v160ZM180-180h160v-160H180v160Zm440 0h160v-160H620v160Z\"/>\n",
              "  </svg>\n",
              "    </button>\n",
              "\n",
              "  <style>\n",
              "    .colab-df-container {\n",
              "      display:flex;\n",
              "      gap: 12px;\n",
              "    }\n",
              "\n",
              "    .colab-df-convert {\n",
              "      background-color: #E8F0FE;\n",
              "      border: none;\n",
              "      border-radius: 50%;\n",
              "      cursor: pointer;\n",
              "      display: none;\n",
              "      fill: #1967D2;\n",
              "      height: 32px;\n",
              "      padding: 0 0 0 0;\n",
              "      width: 32px;\n",
              "    }\n",
              "\n",
              "    .colab-df-convert:hover {\n",
              "      background-color: #E2EBFA;\n",
              "      box-shadow: 0px 1px 2px rgba(60, 64, 67, 0.3), 0px 1px 3px 1px rgba(60, 64, 67, 0.15);\n",
              "      fill: #174EA6;\n",
              "    }\n",
              "\n",
              "    .colab-df-buttons div {\n",
              "      margin-bottom: 4px;\n",
              "    }\n",
              "\n",
              "    [theme=dark] .colab-df-convert {\n",
              "      background-color: #3B4455;\n",
              "      fill: #D2E3FC;\n",
              "    }\n",
              "\n",
              "    [theme=dark] .colab-df-convert:hover {\n",
              "      background-color: #434B5C;\n",
              "      box-shadow: 0px 1px 3px 1px rgba(0, 0, 0, 0.15);\n",
              "      filter: drop-shadow(0px 1px 2px rgba(0, 0, 0, 0.3));\n",
              "      fill: #FFFFFF;\n",
              "    }\n",
              "  </style>\n",
              "\n",
              "    <script>\n",
              "      const buttonEl =\n",
              "        document.querySelector('#df-443652ed-a24d-492b-86a2-b5497f8c75b7 button.colab-df-convert');\n",
              "      buttonEl.style.display =\n",
              "        google.colab.kernel.accessAllowed ? 'block' : 'none';\n",
              "\n",
              "      async function convertToInteractive(key) {\n",
              "        const element = document.querySelector('#df-443652ed-a24d-492b-86a2-b5497f8c75b7');\n",
              "        const dataTable =\n",
              "          await google.colab.kernel.invokeFunction('convertToInteractive',\n",
              "                                                    [key], {});\n",
              "        if (!dataTable) return;\n",
              "\n",
              "        const docLinkHtml = 'Like what you see? Visit the ' +\n",
              "          '<a target=\"_blank\" href=https://colab.research.google.com/notebooks/data_table.ipynb>data table notebook</a>'\n",
              "          + ' to learn more about interactive tables.';\n",
              "        element.innerHTML = '';\n",
              "        dataTable['output_type'] = 'display_data';\n",
              "        await google.colab.output.renderOutput(dataTable, element);\n",
              "        const docLink = document.createElement('div');\n",
              "        docLink.innerHTML = docLinkHtml;\n",
              "        element.appendChild(docLink);\n",
              "      }\n",
              "    </script>\n",
              "  </div>\n",
              "\n",
              "\n",
              "<div id=\"df-6b7e5140-1cd8-426d-8fab-6c5129cbf5dc\">\n",
              "  <button class=\"colab-df-quickchart\" onclick=\"quickchart('df-6b7e5140-1cd8-426d-8fab-6c5129cbf5dc')\"\n",
              "            title=\"Suggest charts\"\n",
              "            style=\"display:none;\">\n",
              "\n",
              "<svg xmlns=\"http://www.w3.org/2000/svg\" height=\"24px\"viewBox=\"0 0 24 24\"\n",
              "     width=\"24px\">\n",
              "    <g>\n",
              "        <path d=\"M19 3H5c-1.1 0-2 .9-2 2v14c0 1.1.9 2 2 2h14c1.1 0 2-.9 2-2V5c0-1.1-.9-2-2-2zM9 17H7v-7h2v7zm4 0h-2V7h2v10zm4 0h-2v-4h2v4z\"/>\n",
              "    </g>\n",
              "</svg>\n",
              "  </button>\n",
              "\n",
              "<style>\n",
              "  .colab-df-quickchart {\n",
              "      --bg-color: #E8F0FE;\n",
              "      --fill-color: #1967D2;\n",
              "      --hover-bg-color: #E2EBFA;\n",
              "      --hover-fill-color: #174EA6;\n",
              "      --disabled-fill-color: #AAA;\n",
              "      --disabled-bg-color: #DDD;\n",
              "  }\n",
              "\n",
              "  [theme=dark] .colab-df-quickchart {\n",
              "      --bg-color: #3B4455;\n",
              "      --fill-color: #D2E3FC;\n",
              "      --hover-bg-color: #434B5C;\n",
              "      --hover-fill-color: #FFFFFF;\n",
              "      --disabled-bg-color: #3B4455;\n",
              "      --disabled-fill-color: #666;\n",
              "  }\n",
              "\n",
              "  .colab-df-quickchart {\n",
              "    background-color: var(--bg-color);\n",
              "    border: none;\n",
              "    border-radius: 50%;\n",
              "    cursor: pointer;\n",
              "    display: none;\n",
              "    fill: var(--fill-color);\n",
              "    height: 32px;\n",
              "    padding: 0;\n",
              "    width: 32px;\n",
              "  }\n",
              "\n",
              "  .colab-df-quickchart:hover {\n",
              "    background-color: var(--hover-bg-color);\n",
              "    box-shadow: 0 1px 2px rgba(60, 64, 67, 0.3), 0 1px 3px 1px rgba(60, 64, 67, 0.15);\n",
              "    fill: var(--button-hover-fill-color);\n",
              "  }\n",
              "\n",
              "  .colab-df-quickchart-complete:disabled,\n",
              "  .colab-df-quickchart-complete:disabled:hover {\n",
              "    background-color: var(--disabled-bg-color);\n",
              "    fill: var(--disabled-fill-color);\n",
              "    box-shadow: none;\n",
              "  }\n",
              "\n",
              "  .colab-df-spinner {\n",
              "    border: 2px solid var(--fill-color);\n",
              "    border-color: transparent;\n",
              "    border-bottom-color: var(--fill-color);\n",
              "    animation:\n",
              "      spin 1s steps(1) infinite;\n",
              "  }\n",
              "\n",
              "  @keyframes spin {\n",
              "    0% {\n",
              "      border-color: transparent;\n",
              "      border-bottom-color: var(--fill-color);\n",
              "      border-left-color: var(--fill-color);\n",
              "    }\n",
              "    20% {\n",
              "      border-color: transparent;\n",
              "      border-left-color: var(--fill-color);\n",
              "      border-top-color: var(--fill-color);\n",
              "    }\n",
              "    30% {\n",
              "      border-color: transparent;\n",
              "      border-left-color: var(--fill-color);\n",
              "      border-top-color: var(--fill-color);\n",
              "      border-right-color: var(--fill-color);\n",
              "    }\n",
              "    40% {\n",
              "      border-color: transparent;\n",
              "      border-right-color: var(--fill-color);\n",
              "      border-top-color: var(--fill-color);\n",
              "    }\n",
              "    60% {\n",
              "      border-color: transparent;\n",
              "      border-right-color: var(--fill-color);\n",
              "    }\n",
              "    80% {\n",
              "      border-color: transparent;\n",
              "      border-right-color: var(--fill-color);\n",
              "      border-bottom-color: var(--fill-color);\n",
              "    }\n",
              "    90% {\n",
              "      border-color: transparent;\n",
              "      border-bottom-color: var(--fill-color);\n",
              "    }\n",
              "  }\n",
              "</style>\n",
              "\n",
              "  <script>\n",
              "    async function quickchart(key) {\n",
              "      const quickchartButtonEl =\n",
              "        document.querySelector('#' + key + ' button');\n",
              "      quickchartButtonEl.disabled = true;  // To prevent multiple clicks.\n",
              "      quickchartButtonEl.classList.add('colab-df-spinner');\n",
              "      try {\n",
              "        const charts = await google.colab.kernel.invokeFunction(\n",
              "            'suggestCharts', [key], {});\n",
              "      } catch (error) {\n",
              "        console.error('Error during call to suggestCharts:', error);\n",
              "      }\n",
              "      quickchartButtonEl.classList.remove('colab-df-spinner');\n",
              "      quickchartButtonEl.classList.add('colab-df-quickchart-complete');\n",
              "    }\n",
              "    (() => {\n",
              "      let quickchartButtonEl =\n",
              "        document.querySelector('#df-6b7e5140-1cd8-426d-8fab-6c5129cbf5dc button');\n",
              "      quickchartButtonEl.style.display =\n",
              "        google.colab.kernel.accessAllowed ? 'block' : 'none';\n",
              "    })();\n",
              "  </script>\n",
              "</div>\n",
              "\n",
              "  <div id=\"id_15e5be5f-e1d4-4734-b97c-acf3c9135dca\">\n",
              "    <style>\n",
              "      .colab-df-generate {\n",
              "        background-color: #E8F0FE;\n",
              "        border: none;\n",
              "        border-radius: 50%;\n",
              "        cursor: pointer;\n",
              "        display: none;\n",
              "        fill: #1967D2;\n",
              "        height: 32px;\n",
              "        padding: 0 0 0 0;\n",
              "        width: 32px;\n",
              "      }\n",
              "\n",
              "      .colab-df-generate:hover {\n",
              "        background-color: #E2EBFA;\n",
              "        box-shadow: 0px 1px 2px rgba(60, 64, 67, 0.3), 0px 1px 3px 1px rgba(60, 64, 67, 0.15);\n",
              "        fill: #174EA6;\n",
              "      }\n",
              "\n",
              "      [theme=dark] .colab-df-generate {\n",
              "        background-color: #3B4455;\n",
              "        fill: #D2E3FC;\n",
              "      }\n",
              "\n",
              "      [theme=dark] .colab-df-generate:hover {\n",
              "        background-color: #434B5C;\n",
              "        box-shadow: 0px 1px 3px 1px rgba(0, 0, 0, 0.15);\n",
              "        filter: drop-shadow(0px 1px 2px rgba(0, 0, 0, 0.3));\n",
              "        fill: #FFFFFF;\n",
              "      }\n",
              "    </style>\n",
              "    <button class=\"colab-df-generate\" onclick=\"generateWithVariable('df')\"\n",
              "            title=\"Generate code using this dataframe.\"\n",
              "            style=\"display:none;\">\n",
              "\n",
              "  <svg xmlns=\"http://www.w3.org/2000/svg\" height=\"24px\"viewBox=\"0 0 24 24\"\n",
              "       width=\"24px\">\n",
              "    <path d=\"M7,19H8.4L18.45,9,17,7.55,7,17.6ZM5,21V16.75L18.45,3.32a2,2,0,0,1,2.83,0l1.4,1.43a1.91,1.91,0,0,1,.58,1.4,1.91,1.91,0,0,1-.58,1.4L9.25,21ZM18.45,9,17,7.55Zm-12,3A5.31,5.31,0,0,0,4.9,8.1,5.31,5.31,0,0,0,1,6.5,5.31,5.31,0,0,0,4.9,4.9,5.31,5.31,0,0,0,6.5,1,5.31,5.31,0,0,0,8.1,4.9,5.31,5.31,0,0,0,12,6.5,5.46,5.46,0,0,0,6.5,12Z\"/>\n",
              "  </svg>\n",
              "    </button>\n",
              "    <script>\n",
              "      (() => {\n",
              "      const buttonEl =\n",
              "        document.querySelector('#id_15e5be5f-e1d4-4734-b97c-acf3c9135dca button.colab-df-generate');\n",
              "      buttonEl.style.display =\n",
              "        google.colab.kernel.accessAllowed ? 'block' : 'none';\n",
              "\n",
              "      buttonEl.onclick = () => {\n",
              "        google.colab.notebook.generateWithVariable('df');\n",
              "      }\n",
              "      })();\n",
              "    </script>\n",
              "  </div>\n",
              "\n",
              "    </div>\n",
              "  </div>\n"
            ],
            "application/vnd.google.colaboratory.intrinsic+json": {
              "type": "dataframe",
              "variable_name": "df",
              "summary": "{\n  \"name\": \"df\",\n  \"rows\": 768,\n  \"fields\": [\n    {\n      \"column\": \"Region\",\n      \"properties\": {\n        \"dtype\": \"category\",\n        \"num_unique_values\": 28,\n        \"samples\": [\n          \"Jammu & Kashmir\",\n          \"Uttarakhand\",\n          \"Himachal Pradesh\"\n        ],\n        \"semantic_type\": \"\",\n        \"description\": \"\"\n      }\n    },\n    {\n      \"column\": \" Date\",\n      \"properties\": {\n        \"dtype\": \"object\",\n        \"num_unique_values\": 14,\n        \"samples\": [\n          \" 29-02-2020\",\n          \" 30-04-2020\",\n          \" 31-05-2019\"\n        ],\n        \"semantic_type\": \"\",\n        \"description\": \"\"\n      }\n    },\n    {\n      \"column\": \" Frequency\",\n      \"properties\": {\n        \"dtype\": \"category\",\n        \"num_unique_values\": 2,\n        \"samples\": [\n          \"Monthly\",\n          \" Monthly\"\n        ],\n        \"semantic_type\": \"\",\n        \"description\": \"\"\n      }\n    },\n    {\n      \"column\": \" Estimated Unemployment Rate (%)\",\n      \"properties\": {\n        \"dtype\": \"number\",\n        \"std\": 10.721298373157788,\n        \"min\": 0.0,\n        \"max\": 76.74,\n        \"num_unique_values\": 624,\n        \"samples\": [\n          22.01,\n          5.8\n        ],\n        \"semantic_type\": \"\",\n        \"description\": \"\"\n      }\n    },\n    {\n      \"column\": \" Estimated Employed\",\n      \"properties\": {\n        \"dtype\": \"number\",\n        \"std\": 8087988.429457784,\n        \"min\": 49420.0,\n        \"max\": 45777509.0,\n        \"num_unique_values\": 740,\n        \"samples\": [\n          1732050.0,\n          2392400.0\n        ],\n        \"semantic_type\": \"\",\n        \"description\": \"\"\n      }\n    },\n    {\n      \"column\": \" Estimated Labour Participation Rate (%)\",\n      \"properties\": {\n        \"dtype\": \"number\",\n        \"std\": 8.111094365865874,\n        \"min\": 13.33,\n        \"max\": 72.57,\n        \"num_unique_values\": 626,\n        \"samples\": [\n          47.8,\n          38.2\n        ],\n        \"semantic_type\": \"\",\n        \"description\": \"\"\n      }\n    },\n    {\n      \"column\": \"Area\",\n      \"properties\": {\n        \"dtype\": \"category\",\n        \"num_unique_values\": 2,\n        \"samples\": [\n          \"Urban\",\n          \"Rural\"\n        ],\n        \"semantic_type\": \"\",\n        \"description\": \"\"\n      }\n    }\n  ]\n}"
            }
          },
          "metadata": {},
          "execution_count": 2
        }
      ]
    },
    {
      "cell_type": "code",
      "source": [
        "df.head()"
      ],
      "metadata": {
        "colab": {
          "base_uri": "https://localhost:8080/",
          "height": 206
        },
        "id": "JTkXJUYhlVDX",
        "outputId": "cb530e33-1035-4cff-edd1-477e15970c08"
      },
      "execution_count": null,
      "outputs": [
        {
          "output_type": "execute_result",
          "data": {
            "text/plain": [
              "           Region         Date  Frequency   Estimated Unemployment Rate (%)  \\\n",
              "0  Andhra Pradesh   31-05-2019    Monthly                              3.65   \n",
              "1  Andhra Pradesh   30-06-2019    Monthly                              3.05   \n",
              "2  Andhra Pradesh   31-07-2019    Monthly                              3.75   \n",
              "3  Andhra Pradesh   31-08-2019    Monthly                              3.32   \n",
              "4  Andhra Pradesh   30-09-2019    Monthly                              5.17   \n",
              "\n",
              "    Estimated Employed   Estimated Labour Participation Rate (%)   Area  \n",
              "0           11999139.0                                     43.24  Rural  \n",
              "1           11755881.0                                     42.05  Rural  \n",
              "2           12086707.0                                     43.50  Rural  \n",
              "3           12285693.0                                     43.97  Rural  \n",
              "4           12256762.0                                     44.68  Rural  "
            ],
            "text/html": [
              "\n",
              "  <div id=\"df-c28fc57a-557c-4261-8fa3-b163f2b9bbaa\" class=\"colab-df-container\">\n",
              "    <div>\n",
              "<style scoped>\n",
              "    .dataframe tbody tr th:only-of-type {\n",
              "        vertical-align: middle;\n",
              "    }\n",
              "\n",
              "    .dataframe tbody tr th {\n",
              "        vertical-align: top;\n",
              "    }\n",
              "\n",
              "    .dataframe thead th {\n",
              "        text-align: right;\n",
              "    }\n",
              "</style>\n",
              "<table border=\"1\" class=\"dataframe\">\n",
              "  <thead>\n",
              "    <tr style=\"text-align: right;\">\n",
              "      <th></th>\n",
              "      <th>Region</th>\n",
              "      <th>Date</th>\n",
              "      <th>Frequency</th>\n",
              "      <th>Estimated Unemployment Rate (%)</th>\n",
              "      <th>Estimated Employed</th>\n",
              "      <th>Estimated Labour Participation Rate (%)</th>\n",
              "      <th>Area</th>\n",
              "    </tr>\n",
              "  </thead>\n",
              "  <tbody>\n",
              "    <tr>\n",
              "      <th>0</th>\n",
              "      <td>Andhra Pradesh</td>\n",
              "      <td>31-05-2019</td>\n",
              "      <td>Monthly</td>\n",
              "      <td>3.65</td>\n",
              "      <td>11999139.0</td>\n",
              "      <td>43.24</td>\n",
              "      <td>Rural</td>\n",
              "    </tr>\n",
              "    <tr>\n",
              "      <th>1</th>\n",
              "      <td>Andhra Pradesh</td>\n",
              "      <td>30-06-2019</td>\n",
              "      <td>Monthly</td>\n",
              "      <td>3.05</td>\n",
              "      <td>11755881.0</td>\n",
              "      <td>42.05</td>\n",
              "      <td>Rural</td>\n",
              "    </tr>\n",
              "    <tr>\n",
              "      <th>2</th>\n",
              "      <td>Andhra Pradesh</td>\n",
              "      <td>31-07-2019</td>\n",
              "      <td>Monthly</td>\n",
              "      <td>3.75</td>\n",
              "      <td>12086707.0</td>\n",
              "      <td>43.50</td>\n",
              "      <td>Rural</td>\n",
              "    </tr>\n",
              "    <tr>\n",
              "      <th>3</th>\n",
              "      <td>Andhra Pradesh</td>\n",
              "      <td>31-08-2019</td>\n",
              "      <td>Monthly</td>\n",
              "      <td>3.32</td>\n",
              "      <td>12285693.0</td>\n",
              "      <td>43.97</td>\n",
              "      <td>Rural</td>\n",
              "    </tr>\n",
              "    <tr>\n",
              "      <th>4</th>\n",
              "      <td>Andhra Pradesh</td>\n",
              "      <td>30-09-2019</td>\n",
              "      <td>Monthly</td>\n",
              "      <td>5.17</td>\n",
              "      <td>12256762.0</td>\n",
              "      <td>44.68</td>\n",
              "      <td>Rural</td>\n",
              "    </tr>\n",
              "  </tbody>\n",
              "</table>\n",
              "</div>\n",
              "    <div class=\"colab-df-buttons\">\n",
              "\n",
              "  <div class=\"colab-df-container\">\n",
              "    <button class=\"colab-df-convert\" onclick=\"convertToInteractive('df-c28fc57a-557c-4261-8fa3-b163f2b9bbaa')\"\n",
              "            title=\"Convert this dataframe to an interactive table.\"\n",
              "            style=\"display:none;\">\n",
              "\n",
              "  <svg xmlns=\"http://www.w3.org/2000/svg\" height=\"24px\" viewBox=\"0 -960 960 960\">\n",
              "    <path d=\"M120-120v-720h720v720H120Zm60-500h600v-160H180v160Zm220 220h160v-160H400v160Zm0 220h160v-160H400v160ZM180-400h160v-160H180v160Zm440 0h160v-160H620v160ZM180-180h160v-160H180v160Zm440 0h160v-160H620v160Z\"/>\n",
              "  </svg>\n",
              "    </button>\n",
              "\n",
              "  <style>\n",
              "    .colab-df-container {\n",
              "      display:flex;\n",
              "      gap: 12px;\n",
              "    }\n",
              "\n",
              "    .colab-df-convert {\n",
              "      background-color: #E8F0FE;\n",
              "      border: none;\n",
              "      border-radius: 50%;\n",
              "      cursor: pointer;\n",
              "      display: none;\n",
              "      fill: #1967D2;\n",
              "      height: 32px;\n",
              "      padding: 0 0 0 0;\n",
              "      width: 32px;\n",
              "    }\n",
              "\n",
              "    .colab-df-convert:hover {\n",
              "      background-color: #E2EBFA;\n",
              "      box-shadow: 0px 1px 2px rgba(60, 64, 67, 0.3), 0px 1px 3px 1px rgba(60, 64, 67, 0.15);\n",
              "      fill: #174EA6;\n",
              "    }\n",
              "\n",
              "    .colab-df-buttons div {\n",
              "      margin-bottom: 4px;\n",
              "    }\n",
              "\n",
              "    [theme=dark] .colab-df-convert {\n",
              "      background-color: #3B4455;\n",
              "      fill: #D2E3FC;\n",
              "    }\n",
              "\n",
              "    [theme=dark] .colab-df-convert:hover {\n",
              "      background-color: #434B5C;\n",
              "      box-shadow: 0px 1px 3px 1px rgba(0, 0, 0, 0.15);\n",
              "      filter: drop-shadow(0px 1px 2px rgba(0, 0, 0, 0.3));\n",
              "      fill: #FFFFFF;\n",
              "    }\n",
              "  </style>\n",
              "\n",
              "    <script>\n",
              "      const buttonEl =\n",
              "        document.querySelector('#df-c28fc57a-557c-4261-8fa3-b163f2b9bbaa button.colab-df-convert');\n",
              "      buttonEl.style.display =\n",
              "        google.colab.kernel.accessAllowed ? 'block' : 'none';\n",
              "\n",
              "      async function convertToInteractive(key) {\n",
              "        const element = document.querySelector('#df-c28fc57a-557c-4261-8fa3-b163f2b9bbaa');\n",
              "        const dataTable =\n",
              "          await google.colab.kernel.invokeFunction('convertToInteractive',\n",
              "                                                    [key], {});\n",
              "        if (!dataTable) return;\n",
              "\n",
              "        const docLinkHtml = 'Like what you see? Visit the ' +\n",
              "          '<a target=\"_blank\" href=https://colab.research.google.com/notebooks/data_table.ipynb>data table notebook</a>'\n",
              "          + ' to learn more about interactive tables.';\n",
              "        element.innerHTML = '';\n",
              "        dataTable['output_type'] = 'display_data';\n",
              "        await google.colab.output.renderOutput(dataTable, element);\n",
              "        const docLink = document.createElement('div');\n",
              "        docLink.innerHTML = docLinkHtml;\n",
              "        element.appendChild(docLink);\n",
              "      }\n",
              "    </script>\n",
              "  </div>\n",
              "\n",
              "\n",
              "<div id=\"df-7ca49fb5-e504-42b0-a70d-743f1a9dbd3a\">\n",
              "  <button class=\"colab-df-quickchart\" onclick=\"quickchart('df-7ca49fb5-e504-42b0-a70d-743f1a9dbd3a')\"\n",
              "            title=\"Suggest charts\"\n",
              "            style=\"display:none;\">\n",
              "\n",
              "<svg xmlns=\"http://www.w3.org/2000/svg\" height=\"24px\"viewBox=\"0 0 24 24\"\n",
              "     width=\"24px\">\n",
              "    <g>\n",
              "        <path d=\"M19 3H5c-1.1 0-2 .9-2 2v14c0 1.1.9 2 2 2h14c1.1 0 2-.9 2-2V5c0-1.1-.9-2-2-2zM9 17H7v-7h2v7zm4 0h-2V7h2v10zm4 0h-2v-4h2v4z\"/>\n",
              "    </g>\n",
              "</svg>\n",
              "  </button>\n",
              "\n",
              "<style>\n",
              "  .colab-df-quickchart {\n",
              "      --bg-color: #E8F0FE;\n",
              "      --fill-color: #1967D2;\n",
              "      --hover-bg-color: #E2EBFA;\n",
              "      --hover-fill-color: #174EA6;\n",
              "      --disabled-fill-color: #AAA;\n",
              "      --disabled-bg-color: #DDD;\n",
              "  }\n",
              "\n",
              "  [theme=dark] .colab-df-quickchart {\n",
              "      --bg-color: #3B4455;\n",
              "      --fill-color: #D2E3FC;\n",
              "      --hover-bg-color: #434B5C;\n",
              "      --hover-fill-color: #FFFFFF;\n",
              "      --disabled-bg-color: #3B4455;\n",
              "      --disabled-fill-color: #666;\n",
              "  }\n",
              "\n",
              "  .colab-df-quickchart {\n",
              "    background-color: var(--bg-color);\n",
              "    border: none;\n",
              "    border-radius: 50%;\n",
              "    cursor: pointer;\n",
              "    display: none;\n",
              "    fill: var(--fill-color);\n",
              "    height: 32px;\n",
              "    padding: 0;\n",
              "    width: 32px;\n",
              "  }\n",
              "\n",
              "  .colab-df-quickchart:hover {\n",
              "    background-color: var(--hover-bg-color);\n",
              "    box-shadow: 0 1px 2px rgba(60, 64, 67, 0.3), 0 1px 3px 1px rgba(60, 64, 67, 0.15);\n",
              "    fill: var(--button-hover-fill-color);\n",
              "  }\n",
              "\n",
              "  .colab-df-quickchart-complete:disabled,\n",
              "  .colab-df-quickchart-complete:disabled:hover {\n",
              "    background-color: var(--disabled-bg-color);\n",
              "    fill: var(--disabled-fill-color);\n",
              "    box-shadow: none;\n",
              "  }\n",
              "\n",
              "  .colab-df-spinner {\n",
              "    border: 2px solid var(--fill-color);\n",
              "    border-color: transparent;\n",
              "    border-bottom-color: var(--fill-color);\n",
              "    animation:\n",
              "      spin 1s steps(1) infinite;\n",
              "  }\n",
              "\n",
              "  @keyframes spin {\n",
              "    0% {\n",
              "      border-color: transparent;\n",
              "      border-bottom-color: var(--fill-color);\n",
              "      border-left-color: var(--fill-color);\n",
              "    }\n",
              "    20% {\n",
              "      border-color: transparent;\n",
              "      border-left-color: var(--fill-color);\n",
              "      border-top-color: var(--fill-color);\n",
              "    }\n",
              "    30% {\n",
              "      border-color: transparent;\n",
              "      border-left-color: var(--fill-color);\n",
              "      border-top-color: var(--fill-color);\n",
              "      border-right-color: var(--fill-color);\n",
              "    }\n",
              "    40% {\n",
              "      border-color: transparent;\n",
              "      border-right-color: var(--fill-color);\n",
              "      border-top-color: var(--fill-color);\n",
              "    }\n",
              "    60% {\n",
              "      border-color: transparent;\n",
              "      border-right-color: var(--fill-color);\n",
              "    }\n",
              "    80% {\n",
              "      border-color: transparent;\n",
              "      border-right-color: var(--fill-color);\n",
              "      border-bottom-color: var(--fill-color);\n",
              "    }\n",
              "    90% {\n",
              "      border-color: transparent;\n",
              "      border-bottom-color: var(--fill-color);\n",
              "    }\n",
              "  }\n",
              "</style>\n",
              "\n",
              "  <script>\n",
              "    async function quickchart(key) {\n",
              "      const quickchartButtonEl =\n",
              "        document.querySelector('#' + key + ' button');\n",
              "      quickchartButtonEl.disabled = true;  // To prevent multiple clicks.\n",
              "      quickchartButtonEl.classList.add('colab-df-spinner');\n",
              "      try {\n",
              "        const charts = await google.colab.kernel.invokeFunction(\n",
              "            'suggestCharts', [key], {});\n",
              "      } catch (error) {\n",
              "        console.error('Error during call to suggestCharts:', error);\n",
              "      }\n",
              "      quickchartButtonEl.classList.remove('colab-df-spinner');\n",
              "      quickchartButtonEl.classList.add('colab-df-quickchart-complete');\n",
              "    }\n",
              "    (() => {\n",
              "      let quickchartButtonEl =\n",
              "        document.querySelector('#df-7ca49fb5-e504-42b0-a70d-743f1a9dbd3a button');\n",
              "      quickchartButtonEl.style.display =\n",
              "        google.colab.kernel.accessAllowed ? 'block' : 'none';\n",
              "    })();\n",
              "  </script>\n",
              "</div>\n",
              "\n",
              "    </div>\n",
              "  </div>\n"
            ],
            "application/vnd.google.colaboratory.intrinsic+json": {
              "type": "dataframe",
              "variable_name": "df",
              "summary": "{\n  \"name\": \"df\",\n  \"rows\": 768,\n  \"fields\": [\n    {\n      \"column\": \"Region\",\n      \"properties\": {\n        \"dtype\": \"category\",\n        \"num_unique_values\": 28,\n        \"samples\": [\n          \"Jammu & Kashmir\",\n          \"Uttarakhand\",\n          \"Himachal Pradesh\"\n        ],\n        \"semantic_type\": \"\",\n        \"description\": \"\"\n      }\n    },\n    {\n      \"column\": \" Date\",\n      \"properties\": {\n        \"dtype\": \"object\",\n        \"num_unique_values\": 14,\n        \"samples\": [\n          \" 29-02-2020\",\n          \" 30-04-2020\",\n          \" 31-05-2019\"\n        ],\n        \"semantic_type\": \"\",\n        \"description\": \"\"\n      }\n    },\n    {\n      \"column\": \" Frequency\",\n      \"properties\": {\n        \"dtype\": \"category\",\n        \"num_unique_values\": 2,\n        \"samples\": [\n          \"Monthly\",\n          \" Monthly\"\n        ],\n        \"semantic_type\": \"\",\n        \"description\": \"\"\n      }\n    },\n    {\n      \"column\": \" Estimated Unemployment Rate (%)\",\n      \"properties\": {\n        \"dtype\": \"number\",\n        \"std\": 10.721298373157788,\n        \"min\": 0.0,\n        \"max\": 76.74,\n        \"num_unique_values\": 624,\n        \"samples\": [\n          22.01,\n          5.8\n        ],\n        \"semantic_type\": \"\",\n        \"description\": \"\"\n      }\n    },\n    {\n      \"column\": \" Estimated Employed\",\n      \"properties\": {\n        \"dtype\": \"number\",\n        \"std\": 8087988.429457784,\n        \"min\": 49420.0,\n        \"max\": 45777509.0,\n        \"num_unique_values\": 740,\n        \"samples\": [\n          1732050.0,\n          2392400.0\n        ],\n        \"semantic_type\": \"\",\n        \"description\": \"\"\n      }\n    },\n    {\n      \"column\": \" Estimated Labour Participation Rate (%)\",\n      \"properties\": {\n        \"dtype\": \"number\",\n        \"std\": 8.111094365865874,\n        \"min\": 13.33,\n        \"max\": 72.57,\n        \"num_unique_values\": 626,\n        \"samples\": [\n          47.8,\n          38.2\n        ],\n        \"semantic_type\": \"\",\n        \"description\": \"\"\n      }\n    },\n    {\n      \"column\": \"Area\",\n      \"properties\": {\n        \"dtype\": \"category\",\n        \"num_unique_values\": 2,\n        \"samples\": [\n          \"Urban\",\n          \"Rural\"\n        ],\n        \"semantic_type\": \"\",\n        \"description\": \"\"\n      }\n    }\n  ]\n}"
            }
          },
          "metadata": {},
          "execution_count": 3
        }
      ]
    },
    {
      "cell_type": "code",
      "source": [
        "df.shape"
      ],
      "metadata": {
        "colab": {
          "base_uri": "https://localhost:8080/"
        },
        "id": "yPFqJbXmlcGb",
        "outputId": "12a55a21-3fe6-4243-d6d1-86fdf89015c1"
      },
      "execution_count": null,
      "outputs": [
        {
          "output_type": "execute_result",
          "data": {
            "text/plain": [
              "(768, 7)"
            ]
          },
          "metadata": {},
          "execution_count": 4
        }
      ]
    },
    {
      "cell_type": "code",
      "source": [
        "df.info()"
      ],
      "metadata": {
        "colab": {
          "base_uri": "https://localhost:8080/"
        },
        "id": "SgYA_yXElhZE",
        "outputId": "cd98673b-6eeb-4b24-c69b-28cacada403c"
      },
      "execution_count": null,
      "outputs": [
        {
          "output_type": "stream",
          "name": "stdout",
          "text": [
            "<class 'pandas.core.frame.DataFrame'>\n",
            "RangeIndex: 768 entries, 0 to 767\n",
            "Data columns (total 7 columns):\n",
            " #   Column                                    Non-Null Count  Dtype  \n",
            "---  ------                                    --------------  -----  \n",
            " 0   Region                                    740 non-null    object \n",
            " 1    Date                                     740 non-null    object \n",
            " 2    Frequency                                740 non-null    object \n",
            " 3    Estimated Unemployment Rate (%)          740 non-null    float64\n",
            " 4    Estimated Employed                       740 non-null    float64\n",
            " 5    Estimated Labour Participation Rate (%)  740 non-null    float64\n",
            " 6   Area                                      740 non-null    object \n",
            "dtypes: float64(3), object(4)\n",
            "memory usage: 42.1+ KB\n"
          ]
        }
      ]
    },
    {
      "cell_type": "code",
      "source": [
        "df.isnull().sum()"
      ],
      "metadata": {
        "colab": {
          "base_uri": "https://localhost:8080/"
        },
        "id": "EYMvisuRllv8",
        "outputId": "15195e18-55c7-46df-bcc1-fed05069ac2b"
      },
      "execution_count": null,
      "outputs": [
        {
          "output_type": "execute_result",
          "data": {
            "text/plain": [
              "Region                                      28\n",
              " Date                                       28\n",
              " Frequency                                  28\n",
              " Estimated Unemployment Rate (%)            28\n",
              " Estimated Employed                         28\n",
              " Estimated Labour Participation Rate (%)    28\n",
              "Area                                        28\n",
              "dtype: int64"
            ]
          },
          "metadata": {},
          "execution_count": 6
        }
      ]
    },
    {
      "cell_type": "code",
      "source": [
        "df.dropna(inplace=True)"
      ],
      "metadata": {
        "id": "LNxVoMQSlte_"
      },
      "execution_count": null,
      "outputs": []
    },
    {
      "cell_type": "code",
      "source": [
        "df.isnull().sum()"
      ],
      "metadata": {
        "colab": {
          "base_uri": "https://localhost:8080/"
        },
        "id": "XHXE-mofl0Tx",
        "outputId": "6b95fcc3-2048-4eab-c62d-1d485785a2f4"
      },
      "execution_count": null,
      "outputs": [
        {
          "output_type": "execute_result",
          "data": {
            "text/plain": [
              "Region                                      0\n",
              " Date                                       0\n",
              " Frequency                                  0\n",
              " Estimated Unemployment Rate (%)            0\n",
              " Estimated Employed                         0\n",
              " Estimated Labour Participation Rate (%)    0\n",
              "Area                                        0\n",
              "dtype: int64"
            ]
          },
          "metadata": {},
          "execution_count": 9
        }
      ]
    },
    {
      "cell_type": "code",
      "source": [
        "print(df.columns)"
      ],
      "metadata": {
        "colab": {
          "base_uri": "https://localhost:8080/"
        },
        "id": "BiRdx9bumEGK",
        "outputId": "d4b316c9-891d-4ee7-9459-355df6604e59"
      },
      "execution_count": null,
      "outputs": [
        {
          "output_type": "stream",
          "name": "stdout",
          "text": [
            "Index(['Region', ' Date', ' Frequency', ' Estimated Unemployment Rate (%)',\n",
            "       ' Estimated Employed', ' Estimated Labour Participation Rate (%)',\n",
            "       'Area'],\n",
            "      dtype='object')\n"
          ]
        }
      ]
    },
    {
      "cell_type": "code",
      "source": [
        "df.columns=df.columns.str.strip()"
      ],
      "metadata": {
        "id": "03WcDRjjmLLI"
      },
      "execution_count": null,
      "outputs": []
    },
    {
      "cell_type": "code",
      "source": [
        "Frequency_list = df['Frequency'].tolist()\n",
        "\n",
        "Frequency_dict = {}\n",
        "Frequency_counter = 1\n",
        "for Frequency in Frequency_list:\n",
        "  if pd.notnull(Frequency):\n",
        "    if Frequency not in Frequency_dict:\n",
        "        Frequency_dict[Frequency] = Frequency_counter\n",
        "        Frequency_counter += 1\n",
        "print(Frequency_dict)\n",
        "df['Frequency']=df['Frequency'].replace(Frequency_dict)\n",
        "df['Frequency']"
      ],
      "metadata": {
        "colab": {
          "base_uri": "https://localhost:8080/"
        },
        "id": "FT2nLVuFmWdk",
        "outputId": "840205c9-ad88-46c1-af30-bdc0d8255ea1"
      },
      "execution_count": null,
      "outputs": [
        {
          "output_type": "stream",
          "name": "stdout",
          "text": [
            "{' Monthly': 1, 'Monthly': 2}\n"
          ]
        },
        {
          "output_type": "execute_result",
          "data": {
            "text/plain": [
              "0      1\n",
              "1      1\n",
              "2      1\n",
              "3      1\n",
              "4      1\n",
              "      ..\n",
              "749    2\n",
              "750    2\n",
              "751    2\n",
              "752    2\n",
              "753    2\n",
              "Name: Frequency, Length: 740, dtype: int64"
            ]
          },
          "metadata": {},
          "execution_count": 12
        }
      ]
    },
    {
      "cell_type": "code",
      "source": [
        "Date_list = df['Date'].tolist()\n",
        "\n",
        "Date_dict = {}\n",
        "Date_counter = 1\n",
        "for Date in Date_list:\n",
        "  if pd.notnull(Date):\n",
        "    if Date not in Date_dict:\n",
        "        Date_dict[Date] = Date_counter\n",
        "        Date_counter += 1\n",
        "print(Date_dict)\n",
        "df['Date']=df['Date'].replace(Date_dict)\n",
        "df['Date']"
      ],
      "metadata": {
        "colab": {
          "base_uri": "https://localhost:8080/"
        },
        "id": "wlbJA73xmixU",
        "outputId": "8b792bc9-27d2-46e7-a03c-71a121d1d9e0"
      },
      "execution_count": null,
      "outputs": [
        {
          "output_type": "stream",
          "name": "stdout",
          "text": [
            "{' 31-05-2019': 1, ' 30-06-2019': 2, ' 31-07-2019': 3, ' 31-08-2019': 4, ' 30-09-2019': 5, ' 31-10-2019': 6, ' 30-11-2019': 7, ' 31-12-2019': 8, ' 31-01-2020': 9, ' 29-02-2020': 10, ' 31-03-2020': 11, ' 30-04-2020': 12, ' 31-05-2020': 13, ' 30-06-2020': 14}\n"
          ]
        },
        {
          "output_type": "execute_result",
          "data": {
            "text/plain": [
              "0       1\n",
              "1       2\n",
              "2       3\n",
              "3       4\n",
              "4       5\n",
              "       ..\n",
              "749    10\n",
              "750    11\n",
              "751    12\n",
              "752    13\n",
              "753    14\n",
              "Name: Date, Length: 740, dtype: int64"
            ]
          },
          "metadata": {},
          "execution_count": 13
        }
      ]
    },
    {
      "cell_type": "code",
      "source": [
        "Area_list = df['Area'].tolist()\n",
        "\n",
        "Area_dict = {}\n",
        "Area_counter = 1\n",
        "for Area in Area_list:\n",
        "  if pd.notnull(Area):\n",
        "    if Area not in Area_dict:\n",
        "        Area_dict[Area] = Area_counter\n",
        "        Area_counter += 1\n",
        "print(Area_dict)\n",
        "df['Area']=df['Area'].replace(Area_dict)\n",
        "df['Area']"
      ],
      "metadata": {
        "colab": {
          "base_uri": "https://localhost:8080/"
        },
        "id": "OsHwZFDfmpqo",
        "outputId": "67879e9d-5ccb-4ef6-eeda-f2402e22117e"
      },
      "execution_count": null,
      "outputs": [
        {
          "output_type": "stream",
          "name": "stdout",
          "text": [
            "{'Rural': 1, 'Urban': 2}\n"
          ]
        },
        {
          "output_type": "execute_result",
          "data": {
            "text/plain": [
              "0      1\n",
              "1      1\n",
              "2      1\n",
              "3      1\n",
              "4      1\n",
              "      ..\n",
              "749    2\n",
              "750    2\n",
              "751    2\n",
              "752    2\n",
              "753    2\n",
              "Name: Area, Length: 740, dtype: int64"
            ]
          },
          "metadata": {},
          "execution_count": 14
        }
      ]
    },
    {
      "cell_type": "code",
      "source": [
        "import plotly.express as px"
      ],
      "metadata": {
        "id": "_c5lgcE1muaM"
      },
      "execution_count": null,
      "outputs": []
    },
    {
      "cell_type": "code",
      "source": [
        "# Box plot of Unemployment Rate by State\n",
        "\n",
        "fig = px.box(df, x='Region', y='Estimated Unemployment Rate (%)', color='Region',\n",
        "             labels={'Region' : 'Region', 'Estimated Unemployment Rate (%)' : 'Unemployment Rate (%)'},\n",
        "             title='Unemployment Rate Per States', template='plotly')\n",
        "\n",
        "fig.update_layout(xaxis={'categoryorder': 'total descending'})\n",
        "fig.show()"
      ],
      "metadata": {
        "colab": {
          "base_uri": "https://localhost:8080/",
          "height": 542
        },
        "id": "nQsf0c-Fm12o",
        "outputId": "705b05b4-347b-4687-915d-32f5160c98b0"
      },
      "execution_count": null,
      "outputs": [
        {
          "output_type": "display_data",
          "data": {
            "text/html": [
              "<html>\n",
              "<head><meta charset=\"utf-8\" /></head>\n",
              "<body>\n",
              "    <div>            <script src=\"https://cdnjs.cloudflare.com/ajax/libs/mathjax/2.7.5/MathJax.js?config=TeX-AMS-MML_SVG\"></script><script type=\"text/javascript\">if (window.MathJax && window.MathJax.Hub && window.MathJax.Hub.Config) {window.MathJax.Hub.Config({SVG: {font: \"STIX-Web\"}});}</script>                <script type=\"text/javascript\">window.PlotlyConfig = {MathJaxConfig: 'local'};</script>\n",
              "        <script charset=\"utf-8\" src=\"https://cdn.plot.ly/plotly-2.24.1.min.js\"></script>                <div id=\"a9cf8fd9-5fb4-476d-95aa-aa9c33133a13\" class=\"plotly-graph-div\" style=\"height:525px; width:100%;\"></div>            <script type=\"text/javascript\">                                    window.PLOTLYENV=window.PLOTLYENV || {};                                    if (document.getElementById(\"a9cf8fd9-5fb4-476d-95aa-aa9c33133a13\")) {                    Plotly.newPlot(                        \"a9cf8fd9-5fb4-476d-95aa-aa9c33133a13\",                        [{\"alignmentgroup\":\"True\",\"hovertemplate\":\"Region=%{x}\\u003cbr\\u003eUnemployment Rate (%)=%{y}\\u003cextra\\u003e\\u003c\\u002fextra\\u003e\",\"legendgroup\":\"Andhra Pradesh\",\"marker\":{\"color\":\"#636efa\"},\"name\":\"Andhra Pradesh\",\"notched\":false,\"offsetgroup\":\"Andhra Pradesh\",\"orientation\":\"v\",\"showlegend\":true,\"x\":[\"Andhra Pradesh\",\"Andhra Pradesh\",\"Andhra Pradesh\",\"Andhra Pradesh\",\"Andhra Pradesh\",\"Andhra Pradesh\",\"Andhra Pradesh\",\"Andhra Pradesh\",\"Andhra Pradesh\",\"Andhra Pradesh\",\"Andhra Pradesh\",\"Andhra Pradesh\",\"Andhra Pradesh\",\"Andhra Pradesh\",\"Andhra Pradesh\",\"Andhra Pradesh\",\"Andhra Pradesh\",\"Andhra Pradesh\",\"Andhra Pradesh\",\"Andhra Pradesh\",\"Andhra Pradesh\",\"Andhra Pradesh\",\"Andhra Pradesh\",\"Andhra Pradesh\",\"Andhra Pradesh\",\"Andhra Pradesh\",\"Andhra Pradesh\",\"Andhra Pradesh\"],\"x0\":\" \",\"xaxis\":\"x\",\"y\":[3.65,3.05,3.75,3.32,5.17,3.52,4.12,4.38,4.84,5.91,4.06,16.29,14.46,0.85,6.09,3.8,5.64,4.61,6.01,4.7,7.54,7.88,7.11,5.66,9.88,32.3,24.91,5.86],\"y0\":\" \",\"yaxis\":\"y\",\"type\":\"box\"},{\"alignmentgroup\":\"True\",\"hovertemplate\":\"Region=%{x}\\u003cbr\\u003eUnemployment Rate (%)=%{y}\\u003cextra\\u003e\\u003c\\u002fextra\\u003e\",\"legendgroup\":\"Assam\",\"marker\":{\"color\":\"#EF553B\"},\"name\":\"Assam\",\"notched\":false,\"offsetgroup\":\"Assam\",\"orientation\":\"v\",\"showlegend\":true,\"x\":[\"Assam\",\"Assam\",\"Assam\",\"Assam\",\"Assam\",\"Assam\",\"Assam\",\"Assam\",\"Assam\",\"Assam\",\"Assam\",\"Assam\",\"Assam\",\"Assam\",\"Assam\",\"Assam\",\"Assam\",\"Assam\",\"Assam\",\"Assam\",\"Assam\",\"Assam\",\"Assam\",\"Assam\",\"Assam\",\"Assam\"],\"x0\":\" \",\"xaxis\":\"x\",\"y\":[4.29,5.08,4.26,5.79,4.46,4.65,4.66,4.29,3.26,3.77,9.38,0.0,7.87,9.89,3.21,10.39,9.26,11.17,6.31,5.02,7.24,9.98,10.34,8.37,10.77,3.42],\"y0\":\" \",\"yaxis\":\"y\",\"type\":\"box\"},{\"alignmentgroup\":\"True\",\"hovertemplate\":\"Region=%{x}\\u003cbr\\u003eUnemployment Rate (%)=%{y}\\u003cextra\\u003e\\u003c\\u002fextra\\u003e\",\"legendgroup\":\"Bihar\",\"marker\":{\"color\":\"#00cc96\"},\"name\":\"Bihar\",\"notched\":false,\"offsetgroup\":\"Bihar\",\"orientation\":\"v\",\"showlegend\":true,\"x\":[\"Bihar\",\"Bihar\",\"Bihar\",\"Bihar\",\"Bihar\",\"Bihar\",\"Bihar\",\"Bihar\",\"Bihar\",\"Bihar\",\"Bihar\",\"Bihar\",\"Bihar\",\"Bihar\",\"Bihar\",\"Bihar\",\"Bihar\",\"Bihar\",\"Bihar\",\"Bihar\",\"Bihar\",\"Bihar\",\"Bihar\",\"Bihar\",\"Bihar\",\"Bihar\",\"Bihar\",\"Bihar\"],\"x0\":\" \",\"xaxis\":\"x\",\"y\":[9.27,10.2,13.44,11.0,8.87,12.47,12.4,10.16,9.13,9.61,15.39,45.09,47.26,20.49,19.9,13.29,16.41,17.66,20.46,14.06,17.62,14.91,20.69,15.11,15.73,58.77,37.87,12.45],\"y0\":\" \",\"yaxis\":\"y\",\"type\":\"box\"},{\"alignmentgroup\":\"True\",\"hovertemplate\":\"Region=%{x}\\u003cbr\\u003eUnemployment Rate (%)=%{y}\\u003cextra\\u003e\\u003c\\u002fextra\\u003e\",\"legendgroup\":\"Chhattisgarh\",\"marker\":{\"color\":\"#ab63fa\"},\"name\":\"Chhattisgarh\",\"notched\":false,\"offsetgroup\":\"Chhattisgarh\",\"orientation\":\"v\",\"showlegend\":true,\"x\":[\"Chhattisgarh\",\"Chhattisgarh\",\"Chhattisgarh\",\"Chhattisgarh\",\"Chhattisgarh\",\"Chhattisgarh\",\"Chhattisgarh\",\"Chhattisgarh\",\"Chhattisgarh\",\"Chhattisgarh\",\"Chhattisgarh\",\"Chhattisgarh\",\"Chhattisgarh\",\"Chhattisgarh\",\"Chhattisgarh\",\"Chhattisgarh\",\"Chhattisgarh\",\"Chhattisgarh\",\"Chhattisgarh\",\"Chhattisgarh\",\"Chhattisgarh\",\"Chhattisgarh\",\"Chhattisgarh\",\"Chhattisgarh\",\"Chhattisgarh\",\"Chhattisgarh\",\"Chhattisgarh\",\"Chhattisgarh\"],\"x0\":\" \",\"xaxis\":\"x\",\"y\":[9.82,6.76,4.54,4.64,8.33,6.96,2.77,6.11,9.89,7.89,7.31,0.0,7.64,10.14,9.77,11.77,8.17,6.29,9.46,10.27,8.32,3.57,9.01,9.79,8.21,20.13,24.1,27.07],\"y0\":\" \",\"yaxis\":\"y\",\"type\":\"box\"},{\"alignmentgroup\":\"True\",\"hovertemplate\":\"Region=%{x}\\u003cbr\\u003eUnemployment Rate (%)=%{y}\\u003cextra\\u003e\\u003c\\u002fextra\\u003e\",\"legendgroup\":\"Delhi\",\"marker\":{\"color\":\"#FFA15A\"},\"name\":\"Delhi\",\"notched\":false,\"offsetgroup\":\"Delhi\",\"orientation\":\"v\",\"showlegend\":true,\"x\":[\"Delhi\",\"Delhi\",\"Delhi\",\"Delhi\",\"Delhi\",\"Delhi\",\"Delhi\",\"Delhi\",\"Delhi\",\"Delhi\",\"Delhi\",\"Delhi\",\"Delhi\",\"Delhi\",\"Delhi\",\"Delhi\",\"Delhi\",\"Delhi\",\"Delhi\",\"Delhi\",\"Delhi\",\"Delhi\",\"Delhi\",\"Delhi\",\"Delhi\",\"Delhi\",\"Delhi\",\"Delhi\"],\"x0\":\" \",\"xaxis\":\"x\",\"y\":[12.56,9.33,11.07,17.18,12.5,15.84,11.11,16.97,13.48,13.81,15.18,20.69,22.76,21.14,12.31,12.76,14.68,13.52,20.59,12.41,16.11,11.07,22.45,14.86,17.09,16.51,45.78,18.11],\"y0\":\" \",\"yaxis\":\"y\",\"type\":\"box\"},{\"alignmentgroup\":\"True\",\"hovertemplate\":\"Region=%{x}\\u003cbr\\u003eUnemployment Rate (%)=%{y}\\u003cextra\\u003e\\u003c\\u002fextra\\u003e\",\"legendgroup\":\"Goa\",\"marker\":{\"color\":\"#19d3f3\"},\"name\":\"Goa\",\"notched\":false,\"offsetgroup\":\"Goa\",\"orientation\":\"v\",\"showlegend\":true,\"x\":[\"Goa\",\"Goa\",\"Goa\",\"Goa\",\"Goa\",\"Goa\",\"Goa\",\"Goa\",\"Goa\",\"Goa\",\"Goa\",\"Goa\",\"Goa\",\"Goa\",\"Goa\",\"Goa\",\"Goa\",\"Goa\",\"Goa\",\"Goa\",\"Goa\",\"Goa\",\"Goa\",\"Goa\"],\"x0\":\" \",\"xaxis\":\"x\",\"y\":[2.91,5.45,10.98,1.98,3.61,7.21,23.71,3.54,5.38,0.0,15.91,20.0,2.75,13.33,12.28,4.9,3.16,12.31,25.2,16.22,10.92,4.31,4.76,11.76],\"y0\":\" \",\"yaxis\":\"y\",\"type\":\"box\"},{\"alignmentgroup\":\"True\",\"hovertemplate\":\"Region=%{x}\\u003cbr\\u003eUnemployment Rate (%)=%{y}\\u003cextra\\u003e\\u003c\\u002fextra\\u003e\",\"legendgroup\":\"Gujarat\",\"marker\":{\"color\":\"#FF6692\"},\"name\":\"Gujarat\",\"notched\":false,\"offsetgroup\":\"Gujarat\",\"orientation\":\"v\",\"showlegend\":true,\"x\":[\"Gujarat\",\"Gujarat\",\"Gujarat\",\"Gujarat\",\"Gujarat\",\"Gujarat\",\"Gujarat\",\"Gujarat\",\"Gujarat\",\"Gujarat\",\"Gujarat\",\"Gujarat\",\"Gujarat\",\"Gujarat\",\"Gujarat\",\"Gujarat\",\"Gujarat\",\"Gujarat\",\"Gujarat\",\"Gujarat\",\"Gujarat\",\"Gujarat\",\"Gujarat\",\"Gujarat\",\"Gujarat\",\"Gujarat\",\"Gujarat\",\"Gujarat\"],\"x0\":\" \",\"xaxis\":\"x\",\"y\":[2.88,4.77,4.58,3.7,6.29,4.91,4.68,3.46,5.35,6.64,7.59,12.0,14.58,1.41,4.09,6.31,5.15,4.2,5.96,5.45,7.53,5.71,5.82,6.04,5.39,25.94,11.62,4.54],\"y0\":\" \",\"yaxis\":\"y\",\"type\":\"box\"},{\"alignmentgroup\":\"True\",\"hovertemplate\":\"Region=%{x}\\u003cbr\\u003eUnemployment Rate (%)=%{y}\\u003cextra\\u003e\\u003c\\u002fextra\\u003e\",\"legendgroup\":\"Haryana\",\"marker\":{\"color\":\"#B6E880\"},\"name\":\"Haryana\",\"notched\":false,\"offsetgroup\":\"Haryana\",\"orientation\":\"v\",\"showlegend\":true,\"x\":[\"Haryana\",\"Haryana\",\"Haryana\",\"Haryana\",\"Haryana\",\"Haryana\",\"Haryana\",\"Haryana\",\"Haryana\",\"Haryana\",\"Haryana\",\"Haryana\",\"Haryana\",\"Haryana\",\"Haryana\",\"Haryana\",\"Haryana\",\"Haryana\",\"Haryana\",\"Haryana\",\"Haryana\",\"Haryana\",\"Haryana\",\"Haryana\",\"Haryana\",\"Haryana\",\"Haryana\",\"Haryana\"],\"x0\":\" \",\"xaxis\":\"x\",\"y\":[14.54,23.08,16.22,30.94,16.36,24.17,16.59,29.56,16.21,27.19,23.92,41.61,34.22,35.57,24.67,20.42,25.45,24.19,26.84,21.04,27.06,23.65,27.24,23.29,27.14,46.89,38.46,29.41],\"y0\":\" \",\"yaxis\":\"y\",\"type\":\"box\"},{\"alignmentgroup\":\"True\",\"hovertemplate\":\"Region=%{x}\\u003cbr\\u003eUnemployment Rate (%)=%{y}\\u003cextra\\u003e\\u003c\\u002fextra\\u003e\",\"legendgroup\":\"Himachal Pradesh\",\"marker\":{\"color\":\"#FF97FF\"},\"name\":\"Himachal Pradesh\",\"notched\":false,\"offsetgroup\":\"Himachal Pradesh\",\"orientation\":\"v\",\"showlegend\":true,\"x\":[\"Himachal Pradesh\",\"Himachal Pradesh\",\"Himachal Pradesh\",\"Himachal Pradesh\",\"Himachal Pradesh\",\"Himachal Pradesh\",\"Himachal Pradesh\",\"Himachal Pradesh\",\"Himachal Pradesh\",\"Himachal Pradesh\",\"Himachal Pradesh\",\"Himachal Pradesh\",\"Himachal Pradesh\",\"Himachal Pradesh\",\"Himachal Pradesh\",\"Himachal Pradesh\",\"Himachal Pradesh\",\"Himachal Pradesh\",\"Himachal Pradesh\",\"Himachal Pradesh\",\"Himachal Pradesh\",\"Himachal Pradesh\",\"Himachal Pradesh\",\"Himachal Pradesh\",\"Himachal Pradesh\",\"Himachal Pradesh\",\"Himachal Pradesh\",\"Himachal Pradesh\"],\"x0\":\" \",\"xaxis\":\"x\",\"y\":[13.68,11.43,20.59,18.56,15.98,15.81,22.86,19.46,16.67,15.42,17.71,2.13,25.64,1.12,10.88,21.43,21.51,24.48,12.0,23.77,27.27,25.32,18.15,27.31,26.44,2.7,50.0,10.81],\"y0\":\" \",\"yaxis\":\"y\",\"type\":\"box\"},{\"alignmentgroup\":\"True\",\"hovertemplate\":\"Region=%{x}\\u003cbr\\u003eUnemployment Rate (%)=%{y}\\u003cextra\\u003e\\u003c\\u002fextra\\u003e\",\"legendgroup\":\"Jammu & Kashmir\",\"marker\":{\"color\":\"#FECB52\"},\"name\":\"Jammu & Kashmir\",\"notched\":false,\"offsetgroup\":\"Jammu & Kashmir\",\"orientation\":\"v\",\"showlegend\":true,\"x\":[\"Jammu & Kashmir\",\"Jammu & Kashmir\",\"Jammu & Kashmir\",\"Jammu & Kashmir\",\"Jammu & Kashmir\",\"Jammu & Kashmir\",\"Jammu & Kashmir\",\"Jammu & Kashmir\",\"Jammu & Kashmir\",\"Jammu & Kashmir\",\"Jammu & Kashmir\",\"Jammu & Kashmir\",\"Jammu & Kashmir\",\"Jammu & Kashmir\",\"Jammu & Kashmir\",\"Jammu & Kashmir\",\"Jammu & Kashmir\",\"Jammu & Kashmir\",\"Jammu & Kashmir\",\"Jammu & Kashmir\",\"Jammu & Kashmir\"],\"x0\":\" \",\"xaxis\":\"x\",\"y\":[12.78,12.09,13.67,11.32,19.27,14.73,22.19,21.23,16.0,2.22,18.97,23.04,19.88,21.55,24.06,14.29,7.02,18.54,19.86,14.29,12.96],\"y0\":\" \",\"yaxis\":\"y\",\"type\":\"box\"},{\"alignmentgroup\":\"True\",\"hovertemplate\":\"Region=%{x}\\u003cbr\\u003eUnemployment Rate (%)=%{y}\\u003cextra\\u003e\\u003c\\u002fextra\\u003e\",\"legendgroup\":\"Jharkhand\",\"marker\":{\"color\":\"#636efa\"},\"name\":\"Jharkhand\",\"notched\":false,\"offsetgroup\":\"Jharkhand\",\"orientation\":\"v\",\"showlegend\":true,\"x\":[\"Jharkhand\",\"Jharkhand\",\"Jharkhand\",\"Jharkhand\",\"Jharkhand\",\"Jharkhand\",\"Jharkhand\",\"Jharkhand\",\"Jharkhand\",\"Jharkhand\",\"Jharkhand\",\"Jharkhand\",\"Jharkhand\",\"Jharkhand\",\"Jharkhand\",\"Jharkhand\",\"Jharkhand\",\"Jharkhand\",\"Jharkhand\",\"Jharkhand\",\"Jharkhand\",\"Jharkhand\",\"Jharkhand\",\"Jharkhand\",\"Jharkhand\",\"Jharkhand\",\"Jharkhand\",\"Jharkhand\"],\"x0\":\" \",\"xaxis\":\"x\",\"y\":[7.11,8.46,9.98,12.06,7.12,6.57,8.07,15.15,6.16,9.06,5.01,41.72,55.1,21.53,17.23,20.51,15.67,20.25,21.16,19.05,17.34,22.01,22.96,19.67,16.4,61.48,70.17,19.38],\"y0\":\" \",\"yaxis\":\"y\",\"type\":\"box\"},{\"alignmentgroup\":\"True\",\"hovertemplate\":\"Region=%{x}\\u003cbr\\u003eUnemployment Rate (%)=%{y}\\u003cextra\\u003e\\u003c\\u002fextra\\u003e\",\"legendgroup\":\"Karnataka\",\"marker\":{\"color\":\"#EF553B\"},\"name\":\"Karnataka\",\"notched\":false,\"offsetgroup\":\"Karnataka\",\"orientation\":\"v\",\"showlegend\":true,\"x\":[\"Karnataka\",\"Karnataka\",\"Karnataka\",\"Karnataka\",\"Karnataka\",\"Karnataka\",\"Karnataka\",\"Karnataka\",\"Karnataka\",\"Karnataka\",\"Karnataka\",\"Karnataka\",\"Karnataka\",\"Karnataka\",\"Karnataka\",\"Karnataka\",\"Karnataka\",\"Karnataka\",\"Karnataka\",\"Karnataka\",\"Karnataka\",\"Karnataka\",\"Karnataka\",\"Karnataka\",\"Karnataka\",\"Karnataka\",\"Karnataka\",\"Karnataka\"],\"x0\":\" \",\"xaxis\":\"x\",\"y\":[5.46,5.98,0.52,0.37,3.2,7.13,1.19,0.41,2.57,4.11,2.39,33.17,23.72,10.92,6.56,5.0,2.29,1.27,3.57,3.87,3.44,1.56,3.31,2.88,4.92,25.12,15.88,6.12],\"y0\":\" \",\"yaxis\":\"y\",\"type\":\"box\"},{\"alignmentgroup\":\"True\",\"hovertemplate\":\"Region=%{x}\\u003cbr\\u003eUnemployment Rate (%)=%{y}\\u003cextra\\u003e\\u003c\\u002fextra\\u003e\",\"legendgroup\":\"Kerala\",\"marker\":{\"color\":\"#00cc96\"},\"name\":\"Kerala\",\"notched\":false,\"offsetgroup\":\"Kerala\",\"orientation\":\"v\",\"showlegend\":true,\"x\":[\"Kerala\",\"Kerala\",\"Kerala\",\"Kerala\",\"Kerala\",\"Kerala\",\"Kerala\",\"Kerala\",\"Kerala\",\"Kerala\",\"Kerala\",\"Kerala\",\"Kerala\",\"Kerala\",\"Kerala\",\"Kerala\",\"Kerala\",\"Kerala\",\"Kerala\",\"Kerala\",\"Kerala\",\"Kerala\",\"Kerala\",\"Kerala\",\"Kerala\",\"Kerala\",\"Kerala\",\"Kerala\"],\"x0\":\" \",\"xaxis\":\"x\",\"y\":[6.63,9.0,4.95,10.32,5.35,9.14,5.0,10.77,4.11,8.91,8.85,10.71,23.38,27.66,6.11,6.67,7.58,7.69,5.52,5.35,6.71,7.31,6.65,6.08,9.14,21.43,30.28,12.17],\"y0\":\" \",\"yaxis\":\"y\",\"type\":\"box\"},{\"alignmentgroup\":\"True\",\"hovertemplate\":\"Region=%{x}\\u003cbr\\u003eUnemployment Rate (%)=%{y}\\u003cextra\\u003e\\u003c\\u002fextra\\u003e\",\"legendgroup\":\"Madhya Pradesh\",\"marker\":{\"color\":\"#ab63fa\"},\"name\":\"Madhya Pradesh\",\"notched\":false,\"offsetgroup\":\"Madhya Pradesh\",\"orientation\":\"v\",\"showlegend\":true,\"x\":[\"Madhya Pradesh\",\"Madhya Pradesh\",\"Madhya Pradesh\",\"Madhya Pradesh\",\"Madhya Pradesh\",\"Madhya Pradesh\",\"Madhya Pradesh\",\"Madhya Pradesh\",\"Madhya Pradesh\",\"Madhya Pradesh\",\"Madhya Pradesh\",\"Madhya Pradesh\",\"Madhya Pradesh\",\"Madhya Pradesh\",\"Madhya Pradesh\",\"Madhya Pradesh\",\"Madhya Pradesh\",\"Madhya Pradesh\",\"Madhya Pradesh\",\"Madhya Pradesh\",\"Madhya Pradesh\",\"Madhya Pradesh\",\"Madhya Pradesh\",\"Madhya Pradesh\",\"Madhya Pradesh\",\"Madhya Pradesh\",\"Madhya Pradesh\",\"Madhya Pradesh\"],\"x0\":\" \",\"xaxis\":\"x\",\"y\":[3.63,4.25,3.92,4.94,3.08,2.98,2.72,2.94,3.66,4.42,1.19,12.5,22.46,6.46,3.91,6.38,7.38,6.82,7.0,4.4,6.06,6.2,5.17,4.96,4.8,11.94,40.49,12.72],\"y0\":\" \",\"yaxis\":\"y\",\"type\":\"box\"},{\"alignmentgroup\":\"True\",\"hovertemplate\":\"Region=%{x}\\u003cbr\\u003eUnemployment Rate (%)=%{y}\\u003cextra\\u003e\\u003c\\u002fextra\\u003e\",\"legendgroup\":\"Maharashtra\",\"marker\":{\"color\":\"#FFA15A\"},\"name\":\"Maharashtra\",\"notched\":false,\"offsetgroup\":\"Maharashtra\",\"orientation\":\"v\",\"showlegend\":true,\"x\":[\"Maharashtra\",\"Maharashtra\",\"Maharashtra\",\"Maharashtra\",\"Maharashtra\",\"Maharashtra\",\"Maharashtra\",\"Maharashtra\",\"Maharashtra\",\"Maharashtra\",\"Maharashtra\",\"Maharashtra\",\"Maharashtra\",\"Maharashtra\",\"Maharashtra\",\"Maharashtra\",\"Maharashtra\",\"Maharashtra\",\"Maharashtra\",\"Maharashtra\",\"Maharashtra\",\"Maharashtra\",\"Maharashtra\",\"Maharashtra\",\"Maharashtra\",\"Maharashtra\",\"Maharashtra\",\"Maharashtra\"],\"x0\":\" \",\"xaxis\":\"x\",\"y\":[3.67,4.34,3.66,3.76,4.4,3.81,3.68,3.03,3.8,4.24,5.38,25.28,16.89,9.4,6.08,6.46,6.35,7.57,7.6,7.51,7.6,7.83,6.67,5.34,6.34,14.99,15.92,10.01],\"y0\":\" \",\"yaxis\":\"y\",\"type\":\"box\"},{\"alignmentgroup\":\"True\",\"hovertemplate\":\"Region=%{x}\\u003cbr\\u003eUnemployment Rate (%)=%{y}\\u003cextra\\u003e\\u003c\\u002fextra\\u003e\",\"legendgroup\":\"Meghalaya\",\"marker\":{\"color\":\"#19d3f3\"},\"name\":\"Meghalaya\",\"notched\":false,\"offsetgroup\":\"Meghalaya\",\"orientation\":\"v\",\"showlegend\":true,\"x\":[\"Meghalaya\",\"Meghalaya\",\"Meghalaya\",\"Meghalaya\",\"Meghalaya\",\"Meghalaya\",\"Meghalaya\",\"Meghalaya\",\"Meghalaya\",\"Meghalaya\",\"Meghalaya\",\"Meghalaya\",\"Meghalaya\",\"Meghalaya\",\"Meghalaya\",\"Meghalaya\",\"Meghalaya\",\"Meghalaya\",\"Meghalaya\",\"Meghalaya\",\"Meghalaya\",\"Meghalaya\",\"Meghalaya\",\"Meghalaya\",\"Meghalaya\",\"Meghalaya\",\"Meghalaya\"],\"x0\":\" \",\"xaxis\":\"x\",\"y\":[3.16,4.23,1.03,0.52,0.24,3.7,1.5,1.8,0.97,2.76,1.28,8.38,3.73,1.35,8.4,8.66,4.43,5.8,5.3,7.2,3.02,5.21,4.76,7.37,2.8,17.39,14.58],\"y0\":\" \",\"yaxis\":\"y\",\"type\":\"box\"},{\"alignmentgroup\":\"True\",\"hovertemplate\":\"Region=%{x}\\u003cbr\\u003eUnemployment Rate (%)=%{y}\\u003cextra\\u003e\\u003c\\u002fextra\\u003e\",\"legendgroup\":\"Odisha\",\"marker\":{\"color\":\"#FF6692\"},\"name\":\"Odisha\",\"notched\":false,\"offsetgroup\":\"Odisha\",\"orientation\":\"v\",\"showlegend\":true,\"x\":[\"Odisha\",\"Odisha\",\"Odisha\",\"Odisha\",\"Odisha\",\"Odisha\",\"Odisha\",\"Odisha\",\"Odisha\",\"Odisha\",\"Odisha\",\"Odisha\",\"Odisha\",\"Odisha\",\"Odisha\",\"Odisha\",\"Odisha\",\"Odisha\",\"Odisha\",\"Odisha\",\"Odisha\",\"Odisha\",\"Odisha\",\"Odisha\",\"Odisha\",\"Odisha\",\"Odisha\",\"Odisha\"],\"x0\":\" \",\"xaxis\":\"x\",\"y\":[4.17,4.71,3.31,3.68,4.31,4.28,4.72,4.67,1.81,3.31,15.09,24.48,9.45,4.59,2.95,2.63,1.78,3.5,3.78,4.5,2.23,3.36,2.28,2.19,3.96,20.5,10.0,2.18],\"y0\":\" \",\"yaxis\":\"y\",\"type\":\"box\"},{\"alignmentgroup\":\"True\",\"hovertemplate\":\"Region=%{x}\\u003cbr\\u003eUnemployment Rate (%)=%{y}\\u003cextra\\u003e\\u003c\\u002fextra\\u003e\",\"legendgroup\":\"Puducherry\",\"marker\":{\"color\":\"#B6E880\"},\"name\":\"Puducherry\",\"notched\":false,\"offsetgroup\":\"Puducherry\",\"orientation\":\"v\",\"showlegend\":true,\"x\":[\"Puducherry\",\"Puducherry\",\"Puducherry\",\"Puducherry\",\"Puducherry\",\"Puducherry\",\"Puducherry\",\"Puducherry\",\"Puducherry\",\"Puducherry\",\"Puducherry\",\"Puducherry\",\"Puducherry\",\"Puducherry\",\"Puducherry\",\"Puducherry\",\"Puducherry\",\"Puducherry\",\"Puducherry\",\"Puducherry\",\"Puducherry\",\"Puducherry\",\"Puducherry\",\"Puducherry\",\"Puducherry\",\"Puducherry\"],\"x0\":\" \",\"xaxis\":\"x\",\"y\":[0.0,0.0,0.0,4.85,0.0,1.18,0.0,1.99,0.58,1.74,2.31,74.51,1.25,0.0,0.0,8.95,1.22,1.17,1.37,5.21,0.57,1.78,0.62,76.74,75.0,4.55],\"y0\":\" \",\"yaxis\":\"y\",\"type\":\"box\"},{\"alignmentgroup\":\"True\",\"hovertemplate\":\"Region=%{x}\\u003cbr\\u003eUnemployment Rate (%)=%{y}\\u003cextra\\u003e\\u003c\\u002fextra\\u003e\",\"legendgroup\":\"Punjab\",\"marker\":{\"color\":\"#FF97FF\"},\"name\":\"Punjab\",\"notched\":false,\"offsetgroup\":\"Punjab\",\"orientation\":\"v\",\"showlegend\":true,\"x\":[\"Punjab\",\"Punjab\",\"Punjab\",\"Punjab\",\"Punjab\",\"Punjab\",\"Punjab\",\"Punjab\",\"Punjab\",\"Punjab\",\"Punjab\",\"Punjab\",\"Punjab\",\"Punjab\",\"Punjab\",\"Punjab\",\"Punjab\",\"Punjab\",\"Punjab\",\"Punjab\",\"Punjab\",\"Punjab\",\"Punjab\",\"Punjab\",\"Punjab\",\"Punjab\",\"Punjab\",\"Punjab\"],\"x0\":\" \",\"xaxis\":\"x\",\"y\":[9.17,12.21,9.64,6.69,8.59,12.56,7.07,6.13,9.69,10.41,10.51,3.69,40.59,20.0,13.49,13.17,11.61,11.99,15.69,13.75,10.39,11.97,13.68,11.99,9.97,1.13,20.54,10.55],\"y0\":\" \",\"yaxis\":\"y\",\"type\":\"box\"},{\"alignmentgroup\":\"True\",\"hovertemplate\":\"Region=%{x}\\u003cbr\\u003eUnemployment Rate (%)=%{y}\\u003cextra\\u003e\\u003c\\u002fextra\\u003e\",\"legendgroup\":\"Rajasthan\",\"marker\":{\"color\":\"#FECB52\"},\"name\":\"Rajasthan\",\"notched\":false,\"offsetgroup\":\"Rajasthan\",\"orientation\":\"v\",\"showlegend\":true,\"x\":[\"Rajasthan\",\"Rajasthan\",\"Rajasthan\",\"Rajasthan\",\"Rajasthan\",\"Rajasthan\",\"Rajasthan\",\"Rajasthan\",\"Rajasthan\",\"Rajasthan\",\"Rajasthan\",\"Rajasthan\",\"Rajasthan\",\"Rajasthan\",\"Rajasthan\",\"Rajasthan\",\"Rajasthan\",\"Rajasthan\",\"Rajasthan\",\"Rajasthan\",\"Rajasthan\",\"Rajasthan\",\"Rajasthan\",\"Rajasthan\",\"Rajasthan\",\"Rajasthan\",\"Rajasthan\",\"Rajasthan\"],\"x0\":\" \",\"xaxis\":\"x\",\"y\":[4.03,13.7,9.7,12.5,5.45,14.66,10.47,13.96,8.0,14.48,9.47,12.25,10.45,13.86,13.62,14.36,11.67,14.71,12.63,13.02,14.3,18.04,18.82,17.02,18.54,35.53,25.35,13.04],\"y0\":\" \",\"yaxis\":\"y\",\"type\":\"box\"},{\"alignmentgroup\":\"True\",\"hovertemplate\":\"Region=%{x}\\u003cbr\\u003eUnemployment Rate (%)=%{y}\\u003cextra\\u003e\\u003c\\u002fextra\\u003e\",\"legendgroup\":\"Sikkim\",\"marker\":{\"color\":\"#636efa\"},\"name\":\"Sikkim\",\"notched\":false,\"offsetgroup\":\"Sikkim\",\"orientation\":\"v\",\"showlegend\":true,\"x\":[\"Sikkim\",\"Sikkim\",\"Sikkim\",\"Sikkim\",\"Sikkim\",\"Sikkim\",\"Sikkim\",\"Sikkim\",\"Sikkim\",\"Sikkim\",\"Sikkim\",\"Sikkim\",\"Sikkim\",\"Sikkim\",\"Sikkim\",\"Sikkim\",\"Sikkim\"],\"x0\":\" \",\"xaxis\":\"x\",\"y\":[5.48,13.11,1.0,0.0,5.81,8.2,7.76,2.56,4.82,4.81,9.68,4.04,7.37,20.45,5.77,19.75,2.63],\"y0\":\" \",\"yaxis\":\"y\",\"type\":\"box\"},{\"alignmentgroup\":\"True\",\"hovertemplate\":\"Region=%{x}\\u003cbr\\u003eUnemployment Rate (%)=%{y}\\u003cextra\\u003e\\u003c\\u002fextra\\u003e\",\"legendgroup\":\"Tamil Nadu\",\"marker\":{\"color\":\"#EF553B\"},\"name\":\"Tamil Nadu\",\"notched\":false,\"offsetgroup\":\"Tamil Nadu\",\"orientation\":\"v\",\"showlegend\":true,\"x\":[\"Tamil Nadu\",\"Tamil Nadu\",\"Tamil Nadu\",\"Tamil Nadu\",\"Tamil Nadu\",\"Tamil Nadu\",\"Tamil Nadu\",\"Tamil Nadu\",\"Tamil Nadu\",\"Tamil Nadu\",\"Tamil Nadu\",\"Tamil Nadu\",\"Tamil Nadu\",\"Tamil Nadu\",\"Tamil Nadu\",\"Tamil Nadu\",\"Tamil Nadu\",\"Tamil Nadu\",\"Tamil Nadu\",\"Tamil Nadu\",\"Tamil Nadu\",\"Tamil Nadu\",\"Tamil Nadu\",\"Tamil Nadu\",\"Tamil Nadu\",\"Tamil Nadu\",\"Tamil Nadu\",\"Tamil Nadu\"],\"x0\":\" \",\"xaxis\":\"x\",\"y\":[0.97,0.92,6.01,2.91,1.71,1.46,2.46,3.73,1.18,1.17,6.36,53.19,38.73,2.06,0.89,1.56,3.18,9.53,1.86,1.13,2.65,8.05,2.05,3.31,6.46,45.55,25.95,24.93],\"y0\":\" \",\"yaxis\":\"y\",\"type\":\"box\"},{\"alignmentgroup\":\"True\",\"hovertemplate\":\"Region=%{x}\\u003cbr\\u003eUnemployment Rate (%)=%{y}\\u003cextra\\u003e\\u003c\\u002fextra\\u003e\",\"legendgroup\":\"Telangana\",\"marker\":{\"color\":\"#00cc96\"},\"name\":\"Telangana\",\"notched\":false,\"offsetgroup\":\"Telangana\",\"orientation\":\"v\",\"showlegend\":true,\"x\":[\"Telangana\",\"Telangana\",\"Telangana\",\"Telangana\",\"Telangana\",\"Telangana\",\"Telangana\",\"Telangana\",\"Telangana\",\"Telangana\",\"Telangana\",\"Telangana\",\"Telangana\",\"Telangana\",\"Telangana\",\"Telangana\",\"Telangana\",\"Telangana\",\"Telangana\",\"Telangana\",\"Telangana\",\"Telangana\",\"Telangana\",\"Telangana\",\"Telangana\",\"Telangana\",\"Telangana\",\"Telangana\"],\"x0\":\" \",\"xaxis\":\"x\",\"y\":[2.23,5.92,2.45,1.4,5.49,7.29,6.47,1.35,5.02,9.02,5.63,4.51,34.01,19.3,1.52,1.43,3.73,4.19,6.19,6.74,5.23,4.22,6.49,6.74,6.1,10.5,36.57,6.92],\"y0\":\" \",\"yaxis\":\"y\",\"type\":\"box\"},{\"alignmentgroup\":\"True\",\"hovertemplate\":\"Region=%{x}\\u003cbr\\u003eUnemployment Rate (%)=%{y}\\u003cextra\\u003e\\u003c\\u002fextra\\u003e\",\"legendgroup\":\"Tripura\",\"marker\":{\"color\":\"#ab63fa\"},\"name\":\"Tripura\",\"notched\":false,\"offsetgroup\":\"Tripura\",\"orientation\":\"v\",\"showlegend\":true,\"x\":[\"Tripura\",\"Tripura\",\"Tripura\",\"Tripura\",\"Tripura\",\"Tripura\",\"Tripura\",\"Tripura\",\"Tripura\",\"Tripura\",\"Tripura\",\"Tripura\",\"Tripura\",\"Tripura\",\"Tripura\",\"Tripura\",\"Tripura\",\"Tripura\",\"Tripura\",\"Tripura\",\"Tripura\",\"Tripura\",\"Tripura\",\"Tripura\",\"Tripura\",\"Tripura\",\"Tripura\",\"Tripura\"],\"x0\":\" \",\"xaxis\":\"x\",\"y\":[29.25,26.64,22.47,25.49,30.23,27.54,25.25,26.53,31.91,26.22,31.61,43.64,14.71,18.84,34.69,25.59,25.81,33.45,33.57,26.67,27.15,33.48,34.37,33.88,25.69,34.88,16.78,27.47],\"y0\":\" \",\"yaxis\":\"y\",\"type\":\"box\"},{\"alignmentgroup\":\"True\",\"hovertemplate\":\"Region=%{x}\\u003cbr\\u003eUnemployment Rate (%)=%{y}\\u003cextra\\u003e\\u003c\\u002fextra\\u003e\",\"legendgroup\":\"Uttar Pradesh\",\"marker\":{\"color\":\"#FFA15A\"},\"name\":\"Uttar Pradesh\",\"notched\":false,\"offsetgroup\":\"Uttar Pradesh\",\"orientation\":\"v\",\"showlegend\":true,\"x\":[\"Uttar Pradesh\",\"Uttar Pradesh\",\"Uttar Pradesh\",\"Uttar Pradesh\",\"Uttar Pradesh\",\"Uttar Pradesh\",\"Uttar Pradesh\",\"Uttar Pradesh\",\"Uttar Pradesh\",\"Uttar Pradesh\",\"Uttar Pradesh\",\"Uttar Pradesh\",\"Uttar Pradesh\",\"Uttar Pradesh\",\"Uttar Pradesh\",\"Uttar Pradesh\",\"Uttar Pradesh\",\"Uttar Pradesh\",\"Uttar Pradesh\",\"Uttar Pradesh\",\"Uttar Pradesh\",\"Uttar Pradesh\",\"Uttar Pradesh\",\"Uttar Pradesh\",\"Uttar Pradesh\",\"Uttar Pradesh\",\"Uttar Pradesh\",\"Uttar Pradesh\"],\"x0\":\" \",\"xaxis\":\"x\",\"y\":[10.26,11.13,9.19,11.47,6.45,10.18,6.94,8.43,6.06,8.12,9.37,19.92,16.89,8.51,14.4,11.62,11.8,14.73,13.58,10.35,11.31,12.37,12.34,11.65,12.32,26.94,32.06,13.05],\"y0\":\" \",\"yaxis\":\"y\",\"type\":\"box\"},{\"alignmentgroup\":\"True\",\"hovertemplate\":\"Region=%{x}\\u003cbr\\u003eUnemployment Rate (%)=%{y}\\u003cextra\\u003e\\u003c\\u002fextra\\u003e\",\"legendgroup\":\"Uttarakhand\",\"marker\":{\"color\":\"#19d3f3\"},\"name\":\"Uttarakhand\",\"notched\":false,\"offsetgroup\":\"Uttarakhand\",\"orientation\":\"v\",\"showlegend\":true,\"x\":[\"Uttarakhand\",\"Uttarakhand\",\"Uttarakhand\",\"Uttarakhand\",\"Uttarakhand\",\"Uttarakhand\",\"Uttarakhand\",\"Uttarakhand\",\"Uttarakhand\",\"Uttarakhand\",\"Uttarakhand\",\"Uttarakhand\",\"Uttarakhand\",\"Uttarakhand\",\"Uttarakhand\",\"Uttarakhand\",\"Uttarakhand\",\"Uttarakhand\",\"Uttarakhand\",\"Uttarakhand\",\"Uttarakhand\",\"Uttarakhand\",\"Uttarakhand\",\"Uttarakhand\",\"Uttarakhand\",\"Uttarakhand\",\"Uttarakhand\"],\"x0\":\" \",\"xaxis\":\"x\",\"y\":[1.63,4.65,5.74,6.11,3.47,4.83,5.56,4.52,4.17,4.85,3.66,3.57,10.71,9.17,4.69,6.94,7.43,9.62,4.72,6.34,7.39,8.92,5.28,8.15,13.18,17.36,5.08],\"y0\":\" \",\"yaxis\":\"y\",\"type\":\"box\"},{\"alignmentgroup\":\"True\",\"hovertemplate\":\"Region=%{x}\\u003cbr\\u003eUnemployment Rate (%)=%{y}\\u003cextra\\u003e\\u003c\\u002fextra\\u003e\",\"legendgroup\":\"West Bengal\",\"marker\":{\"color\":\"#FF6692\"},\"name\":\"West Bengal\",\"notched\":false,\"offsetgroup\":\"West Bengal\",\"orientation\":\"v\",\"showlegend\":true,\"x\":[\"West Bengal\",\"West Bengal\",\"West Bengal\",\"West Bengal\",\"West Bengal\",\"West Bengal\",\"West Bengal\",\"West Bengal\",\"West Bengal\",\"West Bengal\",\"West Bengal\",\"West Bengal\",\"West Bengal\",\"West Bengal\",\"West Bengal\",\"West Bengal\",\"West Bengal\",\"West Bengal\",\"West Bengal\",\"West Bengal\",\"West Bengal\",\"West Bengal\",\"West Bengal\",\"West Bengal\",\"West Bengal\",\"West Bengal\",\"West Bengal\",\"West Bengal\"],\"x0\":\" \",\"xaxis\":\"x\",\"y\":[6.02,5.85,5.62,5.58,5.26,6.78,5.83,5.79,6.79,3.78,7.02,18.32,18.43,4.94,7.25,7.38,7.91,7.27,7.79,7.83,6.61,7.24,7.27,7.55,6.67,15.63,15.22,9.86],\"y0\":\" \",\"yaxis\":\"y\",\"type\":\"box\"},{\"alignmentgroup\":\"True\",\"hovertemplate\":\"Region=%{x}\\u003cbr\\u003eUnemployment Rate (%)=%{y}\\u003cextra\\u003e\\u003c\\u002fextra\\u003e\",\"legendgroup\":\"Chandigarh\",\"marker\":{\"color\":\"#B6E880\"},\"name\":\"Chandigarh\",\"notched\":false,\"offsetgroup\":\"Chandigarh\",\"orientation\":\"v\",\"showlegend\":true,\"x\":[\"Chandigarh\",\"Chandigarh\",\"Chandigarh\",\"Chandigarh\",\"Chandigarh\",\"Chandigarh\",\"Chandigarh\",\"Chandigarh\",\"Chandigarh\",\"Chandigarh\",\"Chandigarh\",\"Chandigarh\"],\"x0\":\" \",\"xaxis\":\"x\",\"y\":[18.35,12.4,21.8,9.52,20.14,13.99,22.05,8.33,20.0,16.67,21.43,7.22],\"y0\":\" \",\"yaxis\":\"y\",\"type\":\"box\"}],                        {\"template\":{\"data\":{\"histogram2dcontour\":[{\"type\":\"histogram2dcontour\",\"colorbar\":{\"outlinewidth\":0,\"ticks\":\"\"},\"colorscale\":[[0.0,\"#0d0887\"],[0.1111111111111111,\"#46039f\"],[0.2222222222222222,\"#7201a8\"],[0.3333333333333333,\"#9c179e\"],[0.4444444444444444,\"#bd3786\"],[0.5555555555555556,\"#d8576b\"],[0.6666666666666666,\"#ed7953\"],[0.7777777777777778,\"#fb9f3a\"],[0.8888888888888888,\"#fdca26\"],[1.0,\"#f0f921\"]]}],\"choropleth\":[{\"type\":\"choropleth\",\"colorbar\":{\"outlinewidth\":0,\"ticks\":\"\"}}],\"histogram2d\":[{\"type\":\"histogram2d\",\"colorbar\":{\"outlinewidth\":0,\"ticks\":\"\"},\"colorscale\":[[0.0,\"#0d0887\"],[0.1111111111111111,\"#46039f\"],[0.2222222222222222,\"#7201a8\"],[0.3333333333333333,\"#9c179e\"],[0.4444444444444444,\"#bd3786\"],[0.5555555555555556,\"#d8576b\"],[0.6666666666666666,\"#ed7953\"],[0.7777777777777778,\"#fb9f3a\"],[0.8888888888888888,\"#fdca26\"],[1.0,\"#f0f921\"]]}],\"heatmap\":[{\"type\":\"heatmap\",\"colorbar\":{\"outlinewidth\":0,\"ticks\":\"\"},\"colorscale\":[[0.0,\"#0d0887\"],[0.1111111111111111,\"#46039f\"],[0.2222222222222222,\"#7201a8\"],[0.3333333333333333,\"#9c179e\"],[0.4444444444444444,\"#bd3786\"],[0.5555555555555556,\"#d8576b\"],[0.6666666666666666,\"#ed7953\"],[0.7777777777777778,\"#fb9f3a\"],[0.8888888888888888,\"#fdca26\"],[1.0,\"#f0f921\"]]}],\"heatmapgl\":[{\"type\":\"heatmapgl\",\"colorbar\":{\"outlinewidth\":0,\"ticks\":\"\"},\"colorscale\":[[0.0,\"#0d0887\"],[0.1111111111111111,\"#46039f\"],[0.2222222222222222,\"#7201a8\"],[0.3333333333333333,\"#9c179e\"],[0.4444444444444444,\"#bd3786\"],[0.5555555555555556,\"#d8576b\"],[0.6666666666666666,\"#ed7953\"],[0.7777777777777778,\"#fb9f3a\"],[0.8888888888888888,\"#fdca26\"],[1.0,\"#f0f921\"]]}],\"contourcarpet\":[{\"type\":\"contourcarpet\",\"colorbar\":{\"outlinewidth\":0,\"ticks\":\"\"}}],\"contour\":[{\"type\":\"contour\",\"colorbar\":{\"outlinewidth\":0,\"ticks\":\"\"},\"colorscale\":[[0.0,\"#0d0887\"],[0.1111111111111111,\"#46039f\"],[0.2222222222222222,\"#7201a8\"],[0.3333333333333333,\"#9c179e\"],[0.4444444444444444,\"#bd3786\"],[0.5555555555555556,\"#d8576b\"],[0.6666666666666666,\"#ed7953\"],[0.7777777777777778,\"#fb9f3a\"],[0.8888888888888888,\"#fdca26\"],[1.0,\"#f0f921\"]]}],\"surface\":[{\"type\":\"surface\",\"colorbar\":{\"outlinewidth\":0,\"ticks\":\"\"},\"colorscale\":[[0.0,\"#0d0887\"],[0.1111111111111111,\"#46039f\"],[0.2222222222222222,\"#7201a8\"],[0.3333333333333333,\"#9c179e\"],[0.4444444444444444,\"#bd3786\"],[0.5555555555555556,\"#d8576b\"],[0.6666666666666666,\"#ed7953\"],[0.7777777777777778,\"#fb9f3a\"],[0.8888888888888888,\"#fdca26\"],[1.0,\"#f0f921\"]]}],\"mesh3d\":[{\"type\":\"mesh3d\",\"colorbar\":{\"outlinewidth\":0,\"ticks\":\"\"}}],\"scatter\":[{\"fillpattern\":{\"fillmode\":\"overlay\",\"size\":10,\"solidity\":0.2},\"type\":\"scatter\"}],\"parcoords\":[{\"type\":\"parcoords\",\"line\":{\"colorbar\":{\"outlinewidth\":0,\"ticks\":\"\"}}}],\"scatterpolargl\":[{\"type\":\"scatterpolargl\",\"marker\":{\"colorbar\":{\"outlinewidth\":0,\"ticks\":\"\"}}}],\"bar\":[{\"error_x\":{\"color\":\"#2a3f5f\"},\"error_y\":{\"color\":\"#2a3f5f\"},\"marker\":{\"line\":{\"color\":\"#E5ECF6\",\"width\":0.5},\"pattern\":{\"fillmode\":\"overlay\",\"size\":10,\"solidity\":0.2}},\"type\":\"bar\"}],\"scattergeo\":[{\"type\":\"scattergeo\",\"marker\":{\"colorbar\":{\"outlinewidth\":0,\"ticks\":\"\"}}}],\"scatterpolar\":[{\"type\":\"scatterpolar\",\"marker\":{\"colorbar\":{\"outlinewidth\":0,\"ticks\":\"\"}}}],\"histogram\":[{\"marker\":{\"pattern\":{\"fillmode\":\"overlay\",\"size\":10,\"solidity\":0.2}},\"type\":\"histogram\"}],\"scattergl\":[{\"type\":\"scattergl\",\"marker\":{\"colorbar\":{\"outlinewidth\":0,\"ticks\":\"\"}}}],\"scatter3d\":[{\"type\":\"scatter3d\",\"line\":{\"colorbar\":{\"outlinewidth\":0,\"ticks\":\"\"}},\"marker\":{\"colorbar\":{\"outlinewidth\":0,\"ticks\":\"\"}}}],\"scattermapbox\":[{\"type\":\"scattermapbox\",\"marker\":{\"colorbar\":{\"outlinewidth\":0,\"ticks\":\"\"}}}],\"scatterternary\":[{\"type\":\"scatterternary\",\"marker\":{\"colorbar\":{\"outlinewidth\":0,\"ticks\":\"\"}}}],\"scattercarpet\":[{\"type\":\"scattercarpet\",\"marker\":{\"colorbar\":{\"outlinewidth\":0,\"ticks\":\"\"}}}],\"carpet\":[{\"aaxis\":{\"endlinecolor\":\"#2a3f5f\",\"gridcolor\":\"white\",\"linecolor\":\"white\",\"minorgridcolor\":\"white\",\"startlinecolor\":\"#2a3f5f\"},\"baxis\":{\"endlinecolor\":\"#2a3f5f\",\"gridcolor\":\"white\",\"linecolor\":\"white\",\"minorgridcolor\":\"white\",\"startlinecolor\":\"#2a3f5f\"},\"type\":\"carpet\"}],\"table\":[{\"cells\":{\"fill\":{\"color\":\"#EBF0F8\"},\"line\":{\"color\":\"white\"}},\"header\":{\"fill\":{\"color\":\"#C8D4E3\"},\"line\":{\"color\":\"white\"}},\"type\":\"table\"}],\"barpolar\":[{\"marker\":{\"line\":{\"color\":\"#E5ECF6\",\"width\":0.5},\"pattern\":{\"fillmode\":\"overlay\",\"size\":10,\"solidity\":0.2}},\"type\":\"barpolar\"}],\"pie\":[{\"automargin\":true,\"type\":\"pie\"}]},\"layout\":{\"autotypenumbers\":\"strict\",\"colorway\":[\"#636efa\",\"#EF553B\",\"#00cc96\",\"#ab63fa\",\"#FFA15A\",\"#19d3f3\",\"#FF6692\",\"#B6E880\",\"#FF97FF\",\"#FECB52\"],\"font\":{\"color\":\"#2a3f5f\"},\"hovermode\":\"closest\",\"hoverlabel\":{\"align\":\"left\"},\"paper_bgcolor\":\"white\",\"plot_bgcolor\":\"#E5ECF6\",\"polar\":{\"bgcolor\":\"#E5ECF6\",\"angularaxis\":{\"gridcolor\":\"white\",\"linecolor\":\"white\",\"ticks\":\"\"},\"radialaxis\":{\"gridcolor\":\"white\",\"linecolor\":\"white\",\"ticks\":\"\"}},\"ternary\":{\"bgcolor\":\"#E5ECF6\",\"aaxis\":{\"gridcolor\":\"white\",\"linecolor\":\"white\",\"ticks\":\"\"},\"baxis\":{\"gridcolor\":\"white\",\"linecolor\":\"white\",\"ticks\":\"\"},\"caxis\":{\"gridcolor\":\"white\",\"linecolor\":\"white\",\"ticks\":\"\"}},\"coloraxis\":{\"colorbar\":{\"outlinewidth\":0,\"ticks\":\"\"}},\"colorscale\":{\"sequential\":[[0.0,\"#0d0887\"],[0.1111111111111111,\"#46039f\"],[0.2222222222222222,\"#7201a8\"],[0.3333333333333333,\"#9c179e\"],[0.4444444444444444,\"#bd3786\"],[0.5555555555555556,\"#d8576b\"],[0.6666666666666666,\"#ed7953\"],[0.7777777777777778,\"#fb9f3a\"],[0.8888888888888888,\"#fdca26\"],[1.0,\"#f0f921\"]],\"sequentialminus\":[[0.0,\"#0d0887\"],[0.1111111111111111,\"#46039f\"],[0.2222222222222222,\"#7201a8\"],[0.3333333333333333,\"#9c179e\"],[0.4444444444444444,\"#bd3786\"],[0.5555555555555556,\"#d8576b\"],[0.6666666666666666,\"#ed7953\"],[0.7777777777777778,\"#fb9f3a\"],[0.8888888888888888,\"#fdca26\"],[1.0,\"#f0f921\"]],\"diverging\":[[0,\"#8e0152\"],[0.1,\"#c51b7d\"],[0.2,\"#de77ae\"],[0.3,\"#f1b6da\"],[0.4,\"#fde0ef\"],[0.5,\"#f7f7f7\"],[0.6,\"#e6f5d0\"],[0.7,\"#b8e186\"],[0.8,\"#7fbc41\"],[0.9,\"#4d9221\"],[1,\"#276419\"]]},\"xaxis\":{\"gridcolor\":\"white\",\"linecolor\":\"white\",\"ticks\":\"\",\"title\":{\"standoff\":15},\"zerolinecolor\":\"white\",\"automargin\":true,\"zerolinewidth\":2},\"yaxis\":{\"gridcolor\":\"white\",\"linecolor\":\"white\",\"ticks\":\"\",\"title\":{\"standoff\":15},\"zerolinecolor\":\"white\",\"automargin\":true,\"zerolinewidth\":2},\"scene\":{\"xaxis\":{\"backgroundcolor\":\"#E5ECF6\",\"gridcolor\":\"white\",\"linecolor\":\"white\",\"showbackground\":true,\"ticks\":\"\",\"zerolinecolor\":\"white\",\"gridwidth\":2},\"yaxis\":{\"backgroundcolor\":\"#E5ECF6\",\"gridcolor\":\"white\",\"linecolor\":\"white\",\"showbackground\":true,\"ticks\":\"\",\"zerolinecolor\":\"white\",\"gridwidth\":2},\"zaxis\":{\"backgroundcolor\":\"#E5ECF6\",\"gridcolor\":\"white\",\"linecolor\":\"white\",\"showbackground\":true,\"ticks\":\"\",\"zerolinecolor\":\"white\",\"gridwidth\":2}},\"shapedefaults\":{\"line\":{\"color\":\"#2a3f5f\"}},\"annotationdefaults\":{\"arrowcolor\":\"#2a3f5f\",\"arrowhead\":0,\"arrowwidth\":1},\"geo\":{\"bgcolor\":\"white\",\"landcolor\":\"#E5ECF6\",\"subunitcolor\":\"white\",\"showland\":true,\"showlakes\":true,\"lakecolor\":\"white\"},\"title\":{\"x\":0.05},\"mapbox\":{\"style\":\"light\"}}},\"xaxis\":{\"anchor\":\"y\",\"domain\":[0.0,1.0],\"title\":{\"text\":\"Region\"},\"categoryorder\":\"total descending\",\"categoryarray\":[\"Andhra Pradesh\",\"Assam\",\"Bihar\",\"Chhattisgarh\",\"Delhi\",\"Goa\",\"Gujarat\",\"Haryana\",\"Himachal Pradesh\",\"Jammu & Kashmir\",\"Jharkhand\",\"Karnataka\",\"Kerala\",\"Madhya Pradesh\",\"Maharashtra\",\"Meghalaya\",\"Odisha\",\"Puducherry\",\"Punjab\",\"Rajasthan\",\"Sikkim\",\"Tamil Nadu\",\"Telangana\",\"Tripura\",\"Uttar Pradesh\",\"Uttarakhand\",\"West Bengal\",\"Chandigarh\"]},\"yaxis\":{\"anchor\":\"x\",\"domain\":[0.0,1.0],\"title\":{\"text\":\"Unemployment Rate (%)\"}},\"legend\":{\"title\":{\"text\":\"Region\"},\"tracegroupgap\":0},\"title\":{\"text\":\"Unemployment Rate Per States\"},\"boxmode\":\"overlay\"},                        {\"responsive\": true}                    ).then(function(){\n",
              "                            \n",
              "var gd = document.getElementById('a9cf8fd9-5fb4-476d-95aa-aa9c33133a13');\n",
              "var x = new MutationObserver(function (mutations, observer) {{\n",
              "        var display = window.getComputedStyle(gd).display;\n",
              "        if (!display || display === 'none') {{\n",
              "            console.log([gd, 'removed!']);\n",
              "            Plotly.purge(gd);\n",
              "            observer.disconnect();\n",
              "        }}\n",
              "}});\n",
              "\n",
              "// Listen for the removal of the full notebook cells\n",
              "var notebookContainer = gd.closest('#notebook-container');\n",
              "if (notebookContainer) {{\n",
              "    x.observe(notebookContainer, {childList: true});\n",
              "}}\n",
              "\n",
              "// Listen for the clearing of the current output cell\n",
              "var outputEl = gd.closest('.output');\n",
              "if (outputEl) {{\n",
              "    x.observe(outputEl, {childList: true});\n",
              "}}\n",
              "\n",
              "                        })                };                            </script>        </div>\n",
              "</body>\n",
              "</html>"
            ]
          },
          "metadata": {}
        }
      ]
    },
    {
      "cell_type": "code",
      "source": [
        "Region_list = df['Region'].tolist()\n",
        "\n",
        "Region_dict = {}\n",
        "Region_counter = 1\n",
        "for Region in Region_list:\n",
        "  if pd.notnull(Region):\n",
        "    if Region not in Region_dict:\n",
        "        Region_dict[Region] = Region_counter\n",
        "        Region_counter += 1\n",
        "print(Region_dict)\n",
        "df['Region']=df['Region'].replace(Region_dict)\n",
        "df['Region']"
      ],
      "metadata": {
        "colab": {
          "base_uri": "https://localhost:8080/"
        },
        "id": "Gqd0IfE_m_M6",
        "outputId": "68c12977-6893-4e1c-caae-d431d5c0978d"
      },
      "execution_count": null,
      "outputs": [
        {
          "output_type": "stream",
          "name": "stdout",
          "text": [
            "{'Andhra Pradesh': 1, 'Assam': 2, 'Bihar': 3, 'Chhattisgarh': 4, 'Delhi': 5, 'Goa': 6, 'Gujarat': 7, 'Haryana': 8, 'Himachal Pradesh': 9, 'Jammu & Kashmir': 10, 'Jharkhand': 11, 'Karnataka': 12, 'Kerala': 13, 'Madhya Pradesh': 14, 'Maharashtra': 15, 'Meghalaya': 16, 'Odisha': 17, 'Puducherry': 18, 'Punjab': 19, 'Rajasthan': 20, 'Sikkim': 21, 'Tamil Nadu': 22, 'Telangana': 23, 'Tripura': 24, 'Uttar Pradesh': 25, 'Uttarakhand': 26, 'West Bengal': 27, 'Chandigarh': 28}\n"
          ]
        },
        {
          "output_type": "execute_result",
          "data": {
            "text/plain": [
              "0       1\n",
              "1       1\n",
              "2       1\n",
              "3       1\n",
              "4       1\n",
              "       ..\n",
              "749    27\n",
              "750    27\n",
              "751    27\n",
              "752    27\n",
              "753    27\n",
              "Name: Region, Length: 740, dtype: int64"
            ]
          },
          "metadata": {},
          "execution_count": 17
        }
      ]
    },
    {
      "cell_type": "code",
      "source": [
        "from sklearn.model_selection import train_test_split"
      ],
      "metadata": {
        "id": "wW5kWMGdnDgI"
      },
      "execution_count": null,
      "outputs": []
    },
    {
      "cell_type": "code",
      "source": [
        "x=df[['Region','Date','Frequency','Estimated Employed','Estimated Labour Participation Rate (%)','Area']]\n",
        "y=df[['Estimated Unemployment Rate (%)']]"
      ],
      "metadata": {
        "id": "olkKyr-8nOx8"
      },
      "execution_count": null,
      "outputs": []
    },
    {
      "cell_type": "code",
      "source": [
        "x_train,x_test,y_train,y_test=train_test_split(x,y,test_size=0.2,random_state=0)"
      ],
      "metadata": {
        "id": "5NPFP2XknS-8"
      },
      "execution_count": null,
      "outputs": []
    },
    {
      "cell_type": "code",
      "source": [
        "from sklearn.ensemble import RandomForestRegressor\n",
        "rf=RandomForestRegressor()\n",
        "rf.fit(x_train,y_train)"
      ],
      "metadata": {
        "colab": {
          "base_uri": "https://localhost:8080/",
          "height": 144
        },
        "id": "JIDpCrnynXfd",
        "outputId": "0f36692f-aba1-4744-bd6d-32f132f00698"
      },
      "execution_count": null,
      "outputs": [
        {
          "output_type": "stream",
          "name": "stderr",
          "text": [
            "<ipython-input-21-3f0eb61105a0>:3: DataConversionWarning:\n",
            "\n",
            "A column-vector y was passed when a 1d array was expected. Please change the shape of y to (n_samples,), for example using ravel().\n",
            "\n"
          ]
        },
        {
          "output_type": "execute_result",
          "data": {
            "text/plain": [
              "RandomForestRegressor()"
            ],
            "text/html": [
              "<style>#sk-container-id-1 {color: black;background-color: white;}#sk-container-id-1 pre{padding: 0;}#sk-container-id-1 div.sk-toggleable {background-color: white;}#sk-container-id-1 label.sk-toggleable__label {cursor: pointer;display: block;width: 100%;margin-bottom: 0;padding: 0.3em;box-sizing: border-box;text-align: center;}#sk-container-id-1 label.sk-toggleable__label-arrow:before {content: \"▸\";float: left;margin-right: 0.25em;color: #696969;}#sk-container-id-1 label.sk-toggleable__label-arrow:hover:before {color: black;}#sk-container-id-1 div.sk-estimator:hover label.sk-toggleable__label-arrow:before {color: black;}#sk-container-id-1 div.sk-toggleable__content {max-height: 0;max-width: 0;overflow: hidden;text-align: left;background-color: #f0f8ff;}#sk-container-id-1 div.sk-toggleable__content pre {margin: 0.2em;color: black;border-radius: 0.25em;background-color: #f0f8ff;}#sk-container-id-1 input.sk-toggleable__control:checked~div.sk-toggleable__content {max-height: 200px;max-width: 100%;overflow: auto;}#sk-container-id-1 input.sk-toggleable__control:checked~label.sk-toggleable__label-arrow:before {content: \"▾\";}#sk-container-id-1 div.sk-estimator input.sk-toggleable__control:checked~label.sk-toggleable__label {background-color: #d4ebff;}#sk-container-id-1 div.sk-label input.sk-toggleable__control:checked~label.sk-toggleable__label {background-color: #d4ebff;}#sk-container-id-1 input.sk-hidden--visually {border: 0;clip: rect(1px 1px 1px 1px);clip: rect(1px, 1px, 1px, 1px);height: 1px;margin: -1px;overflow: hidden;padding: 0;position: absolute;width: 1px;}#sk-container-id-1 div.sk-estimator {font-family: monospace;background-color: #f0f8ff;border: 1px dotted black;border-radius: 0.25em;box-sizing: border-box;margin-bottom: 0.5em;}#sk-container-id-1 div.sk-estimator:hover {background-color: #d4ebff;}#sk-container-id-1 div.sk-parallel-item::after {content: \"\";width: 100%;border-bottom: 1px solid gray;flex-grow: 1;}#sk-container-id-1 div.sk-label:hover label.sk-toggleable__label {background-color: #d4ebff;}#sk-container-id-1 div.sk-serial::before {content: \"\";position: absolute;border-left: 1px solid gray;box-sizing: border-box;top: 0;bottom: 0;left: 50%;z-index: 0;}#sk-container-id-1 div.sk-serial {display: flex;flex-direction: column;align-items: center;background-color: white;padding-right: 0.2em;padding-left: 0.2em;position: relative;}#sk-container-id-1 div.sk-item {position: relative;z-index: 1;}#sk-container-id-1 div.sk-parallel {display: flex;align-items: stretch;justify-content: center;background-color: white;position: relative;}#sk-container-id-1 div.sk-item::before, #sk-container-id-1 div.sk-parallel-item::before {content: \"\";position: absolute;border-left: 1px solid gray;box-sizing: border-box;top: 0;bottom: 0;left: 50%;z-index: -1;}#sk-container-id-1 div.sk-parallel-item {display: flex;flex-direction: column;z-index: 1;position: relative;background-color: white;}#sk-container-id-1 div.sk-parallel-item:first-child::after {align-self: flex-end;width: 50%;}#sk-container-id-1 div.sk-parallel-item:last-child::after {align-self: flex-start;width: 50%;}#sk-container-id-1 div.sk-parallel-item:only-child::after {width: 0;}#sk-container-id-1 div.sk-dashed-wrapped {border: 1px dashed gray;margin: 0 0.4em 0.5em 0.4em;box-sizing: border-box;padding-bottom: 0.4em;background-color: white;}#sk-container-id-1 div.sk-label label {font-family: monospace;font-weight: bold;display: inline-block;line-height: 1.2em;}#sk-container-id-1 div.sk-label-container {text-align: center;}#sk-container-id-1 div.sk-container {/* jupyter's `normalize.less` sets `[hidden] { display: none; }` but bootstrap.min.css set `[hidden] { display: none !important; }` so we also need the `!important` here to be able to override the default hidden behavior on the sphinx rendered scikit-learn.org. See: https://github.com/scikit-learn/scikit-learn/issues/21755 */display: inline-block !important;position: relative;}#sk-container-id-1 div.sk-text-repr-fallback {display: none;}</style><div id=\"sk-container-id-1\" class=\"sk-top-container\"><div class=\"sk-text-repr-fallback\"><pre>RandomForestRegressor()</pre><b>In a Jupyter environment, please rerun this cell to show the HTML representation or trust the notebook. <br />On GitHub, the HTML representation is unable to render, please try loading this page with nbviewer.org.</b></div><div class=\"sk-container\" hidden><div class=\"sk-item\"><div class=\"sk-estimator sk-toggleable\"><input class=\"sk-toggleable__control sk-hidden--visually\" id=\"sk-estimator-id-1\" type=\"checkbox\" checked><label for=\"sk-estimator-id-1\" class=\"sk-toggleable__label sk-toggleable__label-arrow\">RandomForestRegressor</label><div class=\"sk-toggleable__content\"><pre>RandomForestRegressor()</pre></div></div></div></div></div>"
            ]
          },
          "metadata": {},
          "execution_count": 21
        }
      ]
    },
    {
      "cell_type": "code",
      "source": [
        "y_pred=rf.predict(x_test)\n",
        "y_pred"
      ],
      "metadata": {
        "colab": {
          "base_uri": "https://localhost:8080/"
        },
        "id": "Qs8e-E2bnbwV",
        "outputId": "8c396fc5-74b2-4e02-8ef4-eeb4ef5605e9"
      },
      "execution_count": null,
      "outputs": [
        {
          "output_type": "execute_result",
          "data": {
            "text/plain": [
              "array([ 3.7493, 16.3529,  4.0188,  9.682 , 31.325 ,  6.3185, 25.6371,\n",
              "       16.5822, 22.8173,  9.9784,  8.4542,  5.4316, 14.0218,  5.269 ,\n",
              "        3.8556,  9.0917, 12.7815, 15.8623,  3.3562, 18.547 , 10.0471,\n",
              "       11.9342,  9.2583,  8.9406, 17.0034, 28.7674, 11.4983, 10.9123,\n",
              "       14.0362,  7.9214,  3.8567, 12.6544, 34.0905,  2.9975, 14.5883,\n",
              "       12.4699, 11.7073, 25.002 ,  6.2923,  4.9214,  2.4811,  4.3448,\n",
              "        4.3773, 15.957 ,  3.6714, 14.1837,  7.2746,  6.4516, 11.1017,\n",
              "        4.5751, 38.8631,  7.623 , 24.4798, 10.3544,  6.4783,  4.4613,\n",
              "       13.7328,  2.8344, 14.0721, 13.839 ,  5.8833,  6.4716,  7.4431,\n",
              "        5.2204,  6.8949,  8.9683, 19.7843, 14.7773,  5.6558,  2.6076,\n",
              "       12.1586,  6.315 ,  3.0523,  2.8359, 23.3907,  7.6135, 16.2555,\n",
              "        2.7227,  8.7583,  8.4281,  3.3057, 37.6126,  3.5869,  6.2224,\n",
              "       15.8829,  6.8792,  5.9638, 20.651 , 21.8385,  6.1895,  5.1952,\n",
              "        5.7045,  7.5691, 24.2906, 17.4948,  7.2798, 11.4033,  5.136 ,\n",
              "       28.9635,  0.9613, 17.2366, 63.0661,  6.4759, 16.2168, 18.9843,\n",
              "        6.4571,  6.5052, 22.9354,  4.3168, 18.9565, 17.9986, 17.2731,\n",
              "       11.4257,  5.8713, 11.6978,  4.3229, 16.6595, 13.044 , 14.5815,\n",
              "        5.5814, 36.4712, 12.9172,  9.4307, 14.4105,  5.3484,  6.8352,\n",
              "        4.7043,  4.5443,  9.9202, 10.8679, 14.5138,  2.9477, 26.7277,\n",
              "        7.6331, 17.9953, 40.9795,  2.7321, 23.2496,  3.2301, 17.4679,\n",
              "       24.2887, 16.0784,  4.1817, 18.1588,  4.5941,  4.8182,  1.6641,\n",
              "       23.7091])"
            ]
          },
          "metadata": {},
          "execution_count": 22
        }
      ]
    },
    {
      "cell_type": "code",
      "source": [
        "from sklearn.metrics import (r2_score, mean_absolute_error, mean_squared_error)\n"
      ],
      "metadata": {
        "id": "bA31vfMInfxx"
      },
      "execution_count": null,
      "outputs": []
    },
    {
      "cell_type": "code",
      "source": [
        "score=r2_score(y_pred,y_test)\n",
        "score"
      ],
      "metadata": {
        "colab": {
          "base_uri": "https://localhost:8080/"
        },
        "id": "aWd-Rqh6njNx",
        "outputId": "f4117c46-0305-4b0b-df20-a5da036d716b"
      },
      "execution_count": null,
      "outputs": [
        {
          "output_type": "execute_result",
          "data": {
            "text/plain": [
              "0.37929716291808013"
            ]
          },
          "metadata": {},
          "execution_count": 24
        }
      ]
    },
    {
      "cell_type": "code",
      "source": [
        "mae=mean_absolute_error(y_test,y_pred)\n",
        "mae"
      ],
      "metadata": {
        "colab": {
          "base_uri": "https://localhost:8080/"
        },
        "id": "iKekQypGnnM7",
        "outputId": "d4926304-8bb3-4259-ef74-00e7a6a5a31e"
      },
      "execution_count": null,
      "outputs": [
        {
          "output_type": "execute_result",
          "data": {
            "text/plain": [
              "4.153027702702704"
            ]
          },
          "metadata": {},
          "execution_count": 25
        }
      ]
    },
    {
      "cell_type": "code",
      "source": [
        "mse=mean_squared_error(y_test,y_pred)\n",
        "mse"
      ],
      "metadata": {
        "colab": {
          "base_uri": "https://localhost:8080/"
        },
        "id": "-tDfPuG8nuPe",
        "outputId": "b4ca6894-f551-4158-d302-045c137d28fd"
      },
      "execution_count": null,
      "outputs": [
        {
          "output_type": "execute_result",
          "data": {
            "text/plain": [
              "53.8491322162838"
            ]
          },
          "metadata": {},
          "execution_count": 26
        }
      ]
    }
  ]
}